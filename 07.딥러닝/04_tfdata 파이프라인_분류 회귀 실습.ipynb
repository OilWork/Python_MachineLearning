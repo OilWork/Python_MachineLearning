{
 "cells": [
  {
   "cell_type": "markdown",
   "metadata": {
    "slideshow": {
     "slide_type": "slide"
    }
   },
   "source": [
    "# tf.data 모듈\n",
    "- 데이터 입력 파이프라인을 위한 모듈\n",
    "    - 모델 학습/평가를 위한 대용량 데이터셋을 제공(feeding)하기 위한 모듈\n",
    "    - raw dataset 에서 입력을 위한 **전처리**, **배치 크키**, **shuffling**등을 한번에 처리할 수 있게 한다.\n",
    "- tf.data.Dataset 추상클래스에서 상속된 여러가지 클래스들을 제공\n",
    "    - 입력 소스의 제공 형태에 따라 다양한 방식을 제공"
   ]
  },
  {
   "cell_type": "markdown",
   "metadata": {
    "slideshow": {
     "slide_type": "fragment"
    }
   },
   "source": [
    "## Dataset API 사용\n",
    "1. **Dataset 생성**\n",
    "    - raw dataset을 지정 (Loading)\n",
    "    - from_tensor_slices(), from_generator() 클래스 메소드, tf.data.TFRecordDataset 클래스등를 사용해 메모리나 파일에 있는 데이터를 Dataset으로 만든다.\n",
    "    - **from_tensor_slices()**: 메모리의 리스트, 넘파이배열, 텐서플로 자료형에서 데이터를 생성한다."
   ]
  },
  {
   "cell_type": "markdown",
   "metadata": {
    "slideshow": {
     "slide_type": "fragment"
    }
   },
   "source": [
    "2. **제공 데이터 전처리**\n",
    "    - **map(함수)**: 하나 하나의 데이터를 변환\n",
    "        - 함수: 값을 변환할 함수로 입력데이터셋의 개수만큼 매개변수 선언\n",
    "    - **filter(함수)**: 특정 조건의 데이터만 제공하도록 처리.\n",
    "        - 함수: 제공할 값의 조건을 정의한 함수로 입력데이터셋의 개수만큼 매개변수 선언하고 bool 값을 반환."
   ]
  },
  {
   "cell_type": "markdown",
   "metadata": {
    "slideshow": {
     "slide_type": "fragment"
    }
   },
   "source": [
    "3. **데이터 제공 설정 관련**\n",
    "    - **batch(size)**: 학습/평가시 한번에 제공할 batch size 지정\n",
    "        - size: int. batch size 지정\n",
    "        - drop_remainder: bool. True일 경우 마지막 제공시 남은 데이터수가 batch size보다 작으면 제공하지 않는다.\n",
    "    - **shuffle(buffer 크기)**: dataset의 원소들의 순서를 섞는다. \n",
    "        - buffer 크기: int. buffer 크기는 섞는 공간의 크기로  **데이터보다 크거나 같으면** 완전셔플, **적으면 일부만 가져와서 섞어** 완전셔플이 안된다.\n",
    "        - 데이터 사이즈가 너무 커서 메모리가 부족할 경우 버퍼크기를 적게 준다.\n",
    "        - 메모리가 충분하다면 데이터의 개수와 동일하게 주면된다.\n",
    "    - **repeat(count)**: 전체 데이터를 한번 다 제공한 뒤 다시 데이터를 제공한다.\n",
    "        - count: 몇번 제공할지 반복 횟수\n",
    "        - shuffle이 적용된 Dataset의 경우 다음 반복 제공마다 shuffle을 진행한다. (에폭단위)\n",
    "        "
   ]
  },
  {
   "cell_type": "markdown",
   "metadata": {
    "slideshow": {
     "slide_type": "fragment"
    }
   },
   "source": [
    "- 각 tf.data 함수들은 각 기능에 맞게 데이터를 처리하는 Dataset 객체를 반환한다."
   ]
  },
  {
   "cell_type": "markdown",
   "metadata": {
    "slideshow": {
     "slide_type": "fragment"
    }
   },
   "source": [
    "### Dataset 메소드\n",
    "- take(개수): 지정한 개수만큼의 데이터만 제공한다."
   ]
  },
  {
   "cell_type": "code",
   "execution_count": 86,
   "metadata": {
    "ExecuteTime": {
     "end_time": "2022-07-14T00:19:23.907127Z",
     "start_time": "2022-07-14T00:19:23.905696Z"
    },
    "slideshow": {
     "slide_type": "slide"
    }
   },
   "outputs": [],
   "source": [
    "import tensorflow as tf\n",
    "import numpy as np"
   ]
  },
  {
   "cell_type": "markdown",
   "metadata": {
    "slideshow": {
     "slide_type": "fragment"
    }
   },
   "source": [
    "##### Tensor\n",
    "- TensorFlow의 기본 data type. \n",
    "- numpy가 ndarray를 이용해 데이터를 관리하듯이 tensorflow를 Tensor를 이용해 데이터를 관리한다."
   ]
  },
  {
   "cell_type": "code",
   "execution_count": 88,
   "metadata": {
    "ExecuteTime": {
     "end_time": "2022-07-14T00:19:23.917381Z",
     "start_time": "2022-07-14T00:19:23.912307Z"
    },
    "slideshow": {
     "slide_type": "fragment"
    }
   },
   "outputs": [
    {
     "data": {
      "text/plain": [
       "<tf.Tensor: shape=(3,), dtype=float32, numpy=array([1., 2., 3.], dtype=float32)>"
      ]
     },
     "execution_count": 88,
     "metadata": {},
     "output_type": "execute_result"
    }
   ],
   "source": [
    "t = tf.constant([1,2,3], dtype=\"float32\")\n",
    "t"
   ]
  },
  {
   "cell_type": "code",
   "execution_count": 90,
   "metadata": {
    "ExecuteTime": {
     "end_time": "2022-07-14T00:19:23.963214Z",
     "start_time": "2022-07-14T00:19:23.959376Z"
    },
    "slideshow": {
     "slide_type": "fragment"
    }
   },
   "outputs": [
    {
     "data": {
      "text/plain": [
       "array([1., 2., 3.], dtype=float32)"
      ]
     },
     "execution_count": 90,
     "metadata": {},
     "output_type": "execute_result"
    }
   ],
   "source": [
    "# tensor=>numpy 변환\n",
    "a = t.numpy() # Tensor객체.numpy()\n",
    "a"
   ]
  },
  {
   "cell_type": "code",
   "execution_count": 92,
   "metadata": {
    "ExecuteTime": {
     "end_time": "2022-07-14T00:19:23.974626Z",
     "start_time": "2022-07-14T00:19:23.971256Z"
    },
    "slideshow": {
     "slide_type": "fragment"
    }
   },
   "outputs": [
    {
     "data": {
      "text/plain": [
       "<tf.Tensor: shape=(3,), dtype=float32, numpy=array([1., 2., 3.], dtype=float32)>"
      ]
     },
     "execution_count": 92,
     "metadata": {},
     "output_type": "execute_result"
    }
   ],
   "source": [
    "# numpy/list => tensor 변환\n",
    "t2 = tf.constant(a)\n",
    "t2"
   ]
  },
  {
   "cell_type": "code",
   "execution_count": 94,
   "metadata": {
    "ExecuteTime": {
     "end_time": "2022-07-14T00:19:24.210319Z",
     "start_time": "2022-07-14T00:19:24.205939Z"
    },
    "slideshow": {
     "slide_type": "fragment"
    }
   },
   "outputs": [
    {
     "data": {
      "text/plain": [
       "<tf.Tensor: shape=(3,), dtype=float32, numpy=array([1., 2., 3.], dtype=float32)>"
      ]
     },
     "execution_count": 94,
     "metadata": {},
     "output_type": "execute_result"
    }
   ],
   "source": [
    "# numpy/list => tensor 변환\n",
    "t3 = tf.convert_to_tensor(a)\n",
    "t3"
   ]
  },
  {
   "cell_type": "markdown",
   "metadata": {
    "slideshow": {
     "slide_type": "slide"
    }
   },
   "source": [
    "## Dataset 예제"
   ]
  },
  {
   "cell_type": "code",
   "execution_count": 96,
   "metadata": {
    "ExecuteTime": {
     "end_time": "2022-07-14T00:19:33.407972Z",
     "start_time": "2022-07-14T00:19:33.405547Z"
    },
    "slideshow": {
     "slide_type": "fragment"
    }
   },
   "outputs": [
    {
     "data": {
      "text/plain": [
       "array([0, 1, 2, 3, 4, 5, 6, 7, 8, 9])"
      ]
     },
     "execution_count": 96,
     "metadata": {},
     "output_type": "execute_result"
    }
   ],
   "source": [
    "raw_data1 = np.arange(10)\n",
    "raw_data1"
   ]
  },
  {
   "cell_type": "code",
   "execution_count": 98,
   "metadata": {
    "ExecuteTime": {
     "end_time": "2022-07-14T00:19:33.484614Z",
     "start_time": "2022-07-14T00:19:33.480554Z"
    },
    "slideshow": {
     "slide_type": "fragment"
    }
   },
   "outputs": [
    {
     "name": "stdout",
     "output_type": "stream",
     "text": [
      "<class 'tensorflow.python.data.ops.dataset_ops.TensorSliceDataset'>\n"
     ]
    }
   ],
   "source": [
    "dataset = tf.data.Dataset.from_tensor_slices(raw_data1)\n",
    "print(type(dataset))"
   ]
  },
  {
   "cell_type": "code",
   "execution_count": 100,
   "metadata": {
    "ExecuteTime": {
     "end_time": "2022-07-14T00:19:33.566906Z",
     "start_time": "2022-07-14T00:19:33.562301Z"
    },
    "slideshow": {
     "slide_type": "fragment"
    }
   },
   "outputs": [
    {
     "name": "stdout",
     "output_type": "stream",
     "text": [
      "tf.Tensor(0, shape=(), dtype=int64)\n",
      "tf.Tensor(1, shape=(), dtype=int64)\n",
      "tf.Tensor(2, shape=(), dtype=int64)\n",
      "tf.Tensor(3, shape=(), dtype=int64)\n",
      "tf.Tensor(4, shape=(), dtype=int64)\n",
      "tf.Tensor(5, shape=(), dtype=int64)\n",
      "tf.Tensor(6, shape=(), dtype=int64)\n",
      "tf.Tensor(7, shape=(), dtype=int64)\n",
      "tf.Tensor(8, shape=(), dtype=int64)\n",
      "tf.Tensor(9, shape=(), dtype=int64)\n"
     ]
    }
   ],
   "source": [
    "for data in dataset:\n",
    "    print(data)"
   ]
  },
  {
   "cell_type": "markdown",
   "metadata": {
    "slideshow": {
     "slide_type": "slide"
    }
   },
   "source": [
    "##### x, y 묶어서 제공\n",
    "- 두개 이상의 데이터셋을 묶어서 제공할 경우 Tuple로 묶어준다.\n",
    "    - Dataset이 feeding 할 때는 같은 index의 값들을 tuple로 묶어서 제공 (zip()과 동일)"
   ]
  },
  {
   "cell_type": "code",
   "execution_count": 102,
   "metadata": {
    "ExecuteTime": {
     "end_time": "2022-07-14T00:19:33.864275Z",
     "start_time": "2022-07-14T00:19:33.861517Z"
    },
    "slideshow": {
     "slide_type": "fragment"
    }
   },
   "outputs": [
    {
     "data": {
      "text/plain": [
       "array([10, 11, 12, 13, 14, 15, 16, 17, 18, 19])"
      ]
     },
     "execution_count": 102,
     "metadata": {},
     "output_type": "execute_result"
    }
   ],
   "source": [
    "raw_data2 = np.arange(10,20)\n",
    "raw_data2"
   ]
  },
  {
   "cell_type": "code",
   "execution_count": 104,
   "metadata": {
    "ExecuteTime": {
     "end_time": "2022-07-14T00:19:33.871762Z",
     "start_time": "2022-07-14T00:19:33.869729Z"
    },
    "slideshow": {
     "slide_type": "fragment"
    }
   },
   "outputs": [
    {
     "name": "stdout",
     "output_type": "stream",
     "text": [
      "[0 1 2 3 4 5 6 7 8 9]\n",
      "[10 11 12 13 14 15 16 17 18 19]\n"
     ]
    }
   ],
   "source": [
    "print(raw_data1)\n",
    "print(raw_data2)"
   ]
  },
  {
   "cell_type": "code",
   "execution_count": 106,
   "metadata": {
    "ExecuteTime": {
     "end_time": "2022-07-14T00:19:34.460404Z",
     "start_time": "2022-07-14T00:19:34.455034Z"
    },
    "slideshow": {
     "slide_type": "fragment"
    }
   },
   "outputs": [
    {
     "name": "stdout",
     "output_type": "stream",
     "text": [
      "tf.Tensor(0, shape=(), dtype=int64) tf.Tensor(10, shape=(), dtype=int64)\n",
      "tf.Tensor(1, shape=(), dtype=int64) tf.Tensor(11, shape=(), dtype=int64)\n",
      "tf.Tensor(2, shape=(), dtype=int64) tf.Tensor(12, shape=(), dtype=int64)\n",
      "tf.Tensor(3, shape=(), dtype=int64) tf.Tensor(13, shape=(), dtype=int64)\n",
      "tf.Tensor(4, shape=(), dtype=int64) tf.Tensor(14, shape=(), dtype=int64)\n",
      "tf.Tensor(5, shape=(), dtype=int64) tf.Tensor(15, shape=(), dtype=int64)\n",
      "tf.Tensor(6, shape=(), dtype=int64) tf.Tensor(16, shape=(), dtype=int64)\n",
      "tf.Tensor(7, shape=(), dtype=int64) tf.Tensor(17, shape=(), dtype=int64)\n",
      "tf.Tensor(8, shape=(), dtype=int64) tf.Tensor(18, shape=(), dtype=int64)\n",
      "tf.Tensor(9, shape=(), dtype=int64) tf.Tensor(19, shape=(), dtype=int64)\n"
     ]
    }
   ],
   "source": [
    "dataset2 = tf.data.Dataset.from_tensor_slices((raw_data1, raw_data2)) \n",
    "for X, y in dataset2:\n",
    "    print(X, y)"
   ]
  },
  {
   "cell_type": "code",
   "execution_count": 108,
   "metadata": {
    "ExecuteTime": {
     "end_time": "2022-07-14T00:19:34.470105Z",
     "start_time": "2022-07-14T00:19:34.466337Z"
    },
    "slideshow": {
     "slide_type": "fragment"
    }
   },
   "outputs": [
    {
     "name": "stdout",
     "output_type": "stream",
     "text": [
      "<class 'tensorflow.python.data.ops.dataset_ops.TakeDataset'>\n",
      "tf.Tensor(0, shape=(), dtype=int64)\n",
      "tf.Tensor(1, shape=(), dtype=int64)\n",
      "tf.Tensor(2, shape=(), dtype=int64)\n"
     ]
    }
   ],
   "source": [
    "dataset3 = dataset.take(3)\n",
    "print(type(dataset3))\n",
    "for data in dataset3:\n",
    "    print(data)"
   ]
  },
  {
   "cell_type": "markdown",
   "metadata": {
    "slideshow": {
     "slide_type": "slide"
    }
   },
   "source": [
    "##### shuffle"
   ]
  },
  {
   "cell_type": "code",
   "execution_count": 110,
   "metadata": {
    "ExecuteTime": {
     "end_time": "2022-07-14T00:19:34.539061Z",
     "start_time": "2022-07-14T00:19:34.531383Z"
    },
    "slideshow": {
     "slide_type": "fragment"
    }
   },
   "outputs": [
    {
     "name": "stdout",
     "output_type": "stream",
     "text": [
      "<class 'tensorflow.python.data.ops.dataset_ops.ShuffleDataset'>\n",
      "tf.Tensor(7, shape=(), dtype=int64)\n",
      "tf.Tensor(9, shape=(), dtype=int64)\n",
      "tf.Tensor(2, shape=(), dtype=int64)\n",
      "tf.Tensor(3, shape=(), dtype=int64)\n",
      "tf.Tensor(5, shape=(), dtype=int64)\n",
      "tf.Tensor(0, shape=(), dtype=int64)\n",
      "tf.Tensor(1, shape=(), dtype=int64)\n",
      "tf.Tensor(6, shape=(), dtype=int64)\n",
      "tf.Tensor(8, shape=(), dtype=int64)\n",
      "tf.Tensor(4, shape=(), dtype=int64)\n"
     ]
    }
   ],
   "source": [
    "dataset4 = dataset.shuffle(10) \n",
    "print(type(dataset4))\n",
    "for data in dataset4:\n",
    "    print(data)"
   ]
  },
  {
   "cell_type": "markdown",
   "metadata": {
    "slideshow": {
     "slide_type": "slide"
    }
   },
   "source": [
    "##### batch\n",
    "- drop_remainder: boolean(기본-False)\n",
    "    - batch로 제공할 데이터의 개수가 설정한 batch_size 보다 적으면 제공하지 않는다.\n",
    "    - Train dataset을 만들때 True로 설정하여 항상 일정한 batch size로 학습할 수 있도록 한다. drop 되는 데이터는 다른 epoch을 반복할 때 사용된다."
   ]
  },
  {
   "cell_type": "code",
   "execution_count": 112,
   "metadata": {
    "ExecuteTime": {
     "end_time": "2022-07-14T00:19:34.552037Z",
     "start_time": "2022-07-14T00:19:34.546699Z"
    },
    "slideshow": {
     "slide_type": "fragment"
    }
   },
   "outputs": [
    {
     "name": "stdout",
     "output_type": "stream",
     "text": [
      "<class 'tensorflow.python.data.ops.dataset_ops.BatchDataset'>\n",
      "tf.Tensor([0 1 2], shape=(3,), dtype=int64)\n",
      "tf.Tensor([3 4 5], shape=(3,), dtype=int64)\n",
      "tf.Tensor([6 7 8], shape=(3,), dtype=int64)\n"
     ]
    }
   ],
   "source": [
    "dataset5 = dataset.batch(3, drop_remainder = True)\n",
    "print(type(dataset5))\n",
    "for data in dataset5:\n",
    "    print(data)"
   ]
  },
  {
   "cell_type": "code",
   "execution_count": 114,
   "metadata": {
    "ExecuteTime": {
     "end_time": "2022-07-14T00:19:34.568019Z",
     "start_time": "2022-07-14T00:19:34.557010Z"
    },
    "slideshow": {
     "slide_type": "fragment"
    }
   },
   "outputs": [
    {
     "name": "stdout",
     "output_type": "stream",
     "text": [
      "tf.Tensor([2 1 5], shape=(3,), dtype=int64)\n",
      "tf.Tensor([4 9 3], shape=(3,), dtype=int64)\n",
      "tf.Tensor([6 0 7], shape=(3,), dtype=int64)\n",
      "tf.Tensor([8], shape=(1,), dtype=int64)\n"
     ]
    }
   ],
   "source": [
    "dataset6 = dataset.shuffle(10).batch(3)\n",
    "for d in dataset6:\n",
    "    print(d)"
   ]
  },
  {
   "cell_type": "markdown",
   "metadata": {
    "slideshow": {
     "slide_type": "slide"
    }
   },
   "source": [
    "##### repeat"
   ]
  },
  {
   "cell_type": "code",
   "execution_count": 116,
   "metadata": {
    "ExecuteTime": {
     "end_time": "2022-07-14T00:19:34.576686Z",
     "start_time": "2022-07-14T00:19:34.572552Z"
    },
    "slideshow": {
     "slide_type": "fragment"
    }
   },
   "outputs": [
    {
     "name": "stdout",
     "output_type": "stream",
     "text": [
      "<class 'tensorflow.python.data.ops.dataset_ops.RepeatDataset'>\n",
      "tf.Tensor(0, shape=(), dtype=int64)\n",
      "tf.Tensor(1, shape=(), dtype=int64)\n",
      "tf.Tensor(2, shape=(), dtype=int64)\n",
      "tf.Tensor(3, shape=(), dtype=int64)\n",
      "tf.Tensor(4, shape=(), dtype=int64)\n",
      "tf.Tensor(5, shape=(), dtype=int64)\n",
      "tf.Tensor(6, shape=(), dtype=int64)\n",
      "tf.Tensor(7, shape=(), dtype=int64)\n",
      "tf.Tensor(8, shape=(), dtype=int64)\n",
      "tf.Tensor(9, shape=(), dtype=int64)\n",
      "tf.Tensor(0, shape=(), dtype=int64)\n",
      "tf.Tensor(1, shape=(), dtype=int64)\n",
      "tf.Tensor(2, shape=(), dtype=int64)\n",
      "tf.Tensor(3, shape=(), dtype=int64)\n",
      "tf.Tensor(4, shape=(), dtype=int64)\n",
      "tf.Tensor(5, shape=(), dtype=int64)\n",
      "tf.Tensor(6, shape=(), dtype=int64)\n",
      "tf.Tensor(7, shape=(), dtype=int64)\n",
      "tf.Tensor(8, shape=(), dtype=int64)\n",
      "tf.Tensor(9, shape=(), dtype=int64)\n",
      "tf.Tensor(0, shape=(), dtype=int64)\n",
      "tf.Tensor(1, shape=(), dtype=int64)\n",
      "tf.Tensor(2, shape=(), dtype=int64)\n",
      "tf.Tensor(3, shape=(), dtype=int64)\n",
      "tf.Tensor(4, shape=(), dtype=int64)\n",
      "tf.Tensor(5, shape=(), dtype=int64)\n",
      "tf.Tensor(6, shape=(), dtype=int64)\n",
      "tf.Tensor(7, shape=(), dtype=int64)\n",
      "tf.Tensor(8, shape=(), dtype=int64)\n",
      "tf.Tensor(9, shape=(), dtype=int64)\n"
     ]
    }
   ],
   "source": [
    "dataset7 = dataset.repeat(3) \n",
    "print(type(dataset7))\n",
    "for data in dataset7:\n",
    "    print(data)"
   ]
  },
  {
   "cell_type": "code",
   "execution_count": 118,
   "metadata": {
    "ExecuteTime": {
     "end_time": "2022-07-14T00:19:34.597838Z",
     "start_time": "2022-07-14T00:19:34.591058Z"
    },
    "slideshow": {
     "slide_type": "fragment"
    }
   },
   "outputs": [
    {
     "name": "stdout",
     "output_type": "stream",
     "text": [
      "tf.Tensor([3 2 7 4 6], shape=(5,), dtype=int64)\n",
      "tf.Tensor([0 9 5 8 1], shape=(5,), dtype=int64)\n",
      "tf.Tensor([4 9 1 8 6], shape=(5,), dtype=int64)\n",
      "tf.Tensor([0 5 3 7 2], shape=(5,), dtype=int64)\n",
      "tf.Tensor([9 0 4 2 1], shape=(5,), dtype=int64)\n",
      "tf.Tensor([7 6 5 8 3], shape=(5,), dtype=int64)\n"
     ]
    }
   ],
   "source": [
    "dataset8 = dataset.shuffle(10).batch(5).repeat(3)\n",
    "for data in dataset8:\n",
    "    print(data)"
   ]
  },
  {
   "cell_type": "markdown",
   "metadata": {
    "slideshow": {
     "slide_type": "slide"
    }
   },
   "source": [
    "##### map"
   ]
  },
  {
   "cell_type": "code",
   "execution_count": 120,
   "metadata": {
    "ExecuteTime": {
     "end_time": "2022-07-14T00:19:34.611102Z",
     "start_time": "2022-07-14T00:19:34.602223Z"
    },
    "scrolled": true,
    "slideshow": {
     "slide_type": "fragment"
    }
   },
   "outputs": [
    {
     "name": "stdout",
     "output_type": "stream",
     "text": [
      "<class 'tensorflow.python.data.ops.dataset_ops.MapDataset'>\n",
      "tf.Tensor(0, shape=(), dtype=int64)\n",
      "tf.Tensor(1, shape=(), dtype=int64)\n",
      "tf.Tensor(4, shape=(), dtype=int64)\n",
      "tf.Tensor(9, shape=(), dtype=int64)\n",
      "tf.Tensor(16, shape=(), dtype=int64)\n",
      "tf.Tensor(25, shape=(), dtype=int64)\n",
      "tf.Tensor(36, shape=(), dtype=int64)\n",
      "tf.Tensor(49, shape=(), dtype=int64)\n",
      "tf.Tensor(64, shape=(), dtype=int64)\n",
      "tf.Tensor(81, shape=(), dtype=int64)\n"
     ]
    }
   ],
   "source": [
    "def mapping_func(x):\n",
    "    return x**2\n",
    "\n",
    "dataset9 = dataset.map(mapping_func)\n",
    "print(type(dataset9))\n",
    "for data in dataset9:\n",
    "    print(data)"
   ]
  },
  {
   "cell_type": "code",
   "execution_count": 122,
   "metadata": {
    "ExecuteTime": {
     "end_time": "2022-07-14T00:19:34.647685Z",
     "start_time": "2022-07-14T00:19:34.639687Z"
    },
    "slideshow": {
     "slide_type": "fragment"
    }
   },
   "outputs": [],
   "source": [
    "def mapping_func2(x, y):\n",
    "    return x**3, y\n",
    "\n",
    "dataset2 = tf.data.Dataset.from_tensor_slices((raw_data1, raw_data2))\n",
    "dataset10 = dataset2.map(mapping_func2)"
   ]
  },
  {
   "cell_type": "code",
   "execution_count": 124,
   "metadata": {
    "ExecuteTime": {
     "end_time": "2022-07-14T00:19:35.518680Z",
     "start_time": "2022-07-14T00:19:35.511988Z"
    },
    "slideshow": {
     "slide_type": "fragment"
    }
   },
   "outputs": [
    {
     "name": "stdout",
     "output_type": "stream",
     "text": [
      "(<tf.Tensor: shape=(), dtype=int64, numpy=0>, <tf.Tensor: shape=(), dtype=int64, numpy=10>)\n",
      "(<tf.Tensor: shape=(), dtype=int64, numpy=1>, <tf.Tensor: shape=(), dtype=int64, numpy=11>)\n",
      "(<tf.Tensor: shape=(), dtype=int64, numpy=8>, <tf.Tensor: shape=(), dtype=int64, numpy=12>)\n",
      "(<tf.Tensor: shape=(), dtype=int64, numpy=27>, <tf.Tensor: shape=(), dtype=int64, numpy=13>)\n",
      "(<tf.Tensor: shape=(), dtype=int64, numpy=64>, <tf.Tensor: shape=(), dtype=int64, numpy=14>)\n",
      "(<tf.Tensor: shape=(), dtype=int64, numpy=125>, <tf.Tensor: shape=(), dtype=int64, numpy=15>)\n",
      "(<tf.Tensor: shape=(), dtype=int64, numpy=216>, <tf.Tensor: shape=(), dtype=int64, numpy=16>)\n",
      "(<tf.Tensor: shape=(), dtype=int64, numpy=343>, <tf.Tensor: shape=(), dtype=int64, numpy=17>)\n",
      "(<tf.Tensor: shape=(), dtype=int64, numpy=512>, <tf.Tensor: shape=(), dtype=int64, numpy=18>)\n",
      "(<tf.Tensor: shape=(), dtype=int64, numpy=729>, <tf.Tensor: shape=(), dtype=int64, numpy=19>)\n"
     ]
    }
   ],
   "source": [
    "for data in dataset10:\n",
    "    print(data)"
   ]
  },
  {
   "cell_type": "code",
   "execution_count": 125,
   "metadata": {
    "ExecuteTime": {
     "end_time": "2022-07-14T00:19:35.540881Z",
     "start_time": "2022-07-14T00:19:35.531038Z"
    },
    "scrolled": true,
    "slideshow": {
     "slide_type": "fragment"
    }
   },
   "outputs": [
    {
     "name": "stdout",
     "output_type": "stream",
     "text": [
      "tf.Tensor(0, shape=(), dtype=int64)\n",
      "tf.Tensor(1, shape=(), dtype=int64)\n",
      "tf.Tensor(4, shape=(), dtype=int64)\n",
      "tf.Tensor(9, shape=(), dtype=int64)\n",
      "tf.Tensor(16, shape=(), dtype=int64)\n",
      "tf.Tensor(25, shape=(), dtype=int64)\n",
      "tf.Tensor(36, shape=(), dtype=int64)\n",
      "tf.Tensor(49, shape=(), dtype=int64)\n",
      "tf.Tensor(64, shape=(), dtype=int64)\n",
      "tf.Tensor(81, shape=(), dtype=int64)\n"
     ]
    }
   ],
   "source": [
    "dataset11 = dataset.map(lambda x: x**2)\n",
    "for data in dataset11:\n",
    "    print(data)"
   ]
  },
  {
   "cell_type": "code",
   "execution_count": 126,
   "metadata": {
    "ExecuteTime": {
     "end_time": "2022-07-14T00:19:35.566092Z",
     "start_time": "2022-07-14T00:19:35.553714Z"
    },
    "slideshow": {
     "slide_type": "fragment"
    }
   },
   "outputs": [
    {
     "name": "stdout",
     "output_type": "stream",
     "text": [
      "(<tf.Tensor: shape=(), dtype=int64, numpy=0>, <tf.Tensor: shape=(), dtype=int64, numpy=100>)\n",
      "(<tf.Tensor: shape=(), dtype=int64, numpy=1>, <tf.Tensor: shape=(), dtype=int64, numpy=121>)\n",
      "(<tf.Tensor: shape=(), dtype=int64, numpy=8>, <tf.Tensor: shape=(), dtype=int64, numpy=144>)\n",
      "(<tf.Tensor: shape=(), dtype=int64, numpy=27>, <tf.Tensor: shape=(), dtype=int64, numpy=169>)\n",
      "(<tf.Tensor: shape=(), dtype=int64, numpy=64>, <tf.Tensor: shape=(), dtype=int64, numpy=196>)\n",
      "(<tf.Tensor: shape=(), dtype=int64, numpy=125>, <tf.Tensor: shape=(), dtype=int64, numpy=225>)\n",
      "(<tf.Tensor: shape=(), dtype=int64, numpy=216>, <tf.Tensor: shape=(), dtype=int64, numpy=256>)\n",
      "(<tf.Tensor: shape=(), dtype=int64, numpy=343>, <tf.Tensor: shape=(), dtype=int64, numpy=289>)\n",
      "(<tf.Tensor: shape=(), dtype=int64, numpy=512>, <tf.Tensor: shape=(), dtype=int64, numpy=324>)\n",
      "(<tf.Tensor: shape=(), dtype=int64, numpy=729>, <tf.Tensor: shape=(), dtype=int64, numpy=361>)\n"
     ]
    }
   ],
   "source": [
    "dataset12 = dataset2.map(lambda x, y: (x**3, y**2))\n",
    "for data in dataset12:\n",
    "    print(data)"
   ]
  },
  {
   "cell_type": "markdown",
   "metadata": {
    "slideshow": {
     "slide_type": "slide"
    }
   },
   "source": [
    "##### filter"
   ]
  },
  {
   "cell_type": "code",
   "execution_count": 127,
   "metadata": {
    "ExecuteTime": {
     "end_time": "2022-07-14T00:19:35.586210Z",
     "start_time": "2022-07-14T00:19:35.579723Z"
    },
    "slideshow": {
     "slide_type": "fragment"
    }
   },
   "outputs": [
    {
     "name": "stdout",
     "output_type": "stream",
     "text": [
      "<class 'tensorflow.python.data.ops.dataset_ops.FilterDataset'>\n"
     ]
    }
   ],
   "source": [
    "def filter_func(x):\n",
    "    return x%2 == 0 \n",
    "\n",
    "dataset13 = dataset.filter(filter_func)\n",
    "print(type(dataset13))"
   ]
  },
  {
   "cell_type": "code",
   "execution_count": 128,
   "metadata": {
    "ExecuteTime": {
     "end_time": "2022-07-14T00:19:35.604238Z",
     "start_time": "2022-07-14T00:19:35.598375Z"
    }
   },
   "outputs": [
    {
     "name": "stdout",
     "output_type": "stream",
     "text": [
      "tf.Tensor(0, shape=(), dtype=int64)\n",
      "tf.Tensor(2, shape=(), dtype=int64)\n",
      "tf.Tensor(4, shape=(), dtype=int64)\n",
      "tf.Tensor(6, shape=(), dtype=int64)\n",
      "tf.Tensor(8, shape=(), dtype=int64)\n"
     ]
    }
   ],
   "source": [
    "for data in dataset13:\n",
    "    print(data)"
   ]
  },
  {
   "cell_type": "code",
   "execution_count": 129,
   "metadata": {
    "ExecuteTime": {
     "end_time": "2022-07-14T00:19:35.624856Z",
     "start_time": "2022-07-14T00:19:35.616746Z"
    },
    "slideshow": {
     "slide_type": "fragment"
    }
   },
   "outputs": [
    {
     "name": "stdout",
     "output_type": "stream",
     "text": [
      "tf.Tensor(6, shape=(), dtype=int64)\n",
      "tf.Tensor(7, shape=(), dtype=int64)\n",
      "tf.Tensor(8, shape=(), dtype=int64)\n",
      "tf.Tensor(9, shape=(), dtype=int64)\n"
     ]
    }
   ],
   "source": [
    "dataset14 = dataset.filter(lambda x : x > 5)\n",
    "for data in dataset14:\n",
    "    print(data)"
   ]
  },
  {
   "cell_type": "markdown",
   "metadata": {
    "slideshow": {
     "slide_type": "slide"
    }
   },
   "source": [
    "##### 종합"
   ]
  },
  {
   "cell_type": "code",
   "execution_count": 130,
   "metadata": {
    "ExecuteTime": {
     "end_time": "2022-07-14T00:19:35.651086Z",
     "start_time": "2022-07-14T00:19:35.636575Z"
    },
    "slideshow": {
     "slide_type": "fragment"
    }
   },
   "outputs": [],
   "source": [
    "raw_data = np.arange(-10,11)\n",
    "dataset_final = tf.data.Dataset.from_tensor_slices(raw_data)\\\n",
    "                               .filter(lambda x:x>=0)\\\n",
    "                               .map(lambda y:y+10)\\\n",
    "                               .shuffle(raw_data.size)\\\n",
    "                               .batch(3)"
   ]
  },
  {
   "cell_type": "code",
   "execution_count": 131,
   "metadata": {
    "ExecuteTime": {
     "end_time": "2022-07-14T00:19:35.670707Z",
     "start_time": "2022-07-14T00:19:35.662278Z"
    },
    "slideshow": {
     "slide_type": "fragment"
    }
   },
   "outputs": [
    {
     "name": "stdout",
     "output_type": "stream",
     "text": [
      "tf.Tensor([14 12 20], shape=(3,), dtype=int64)\n",
      "tf.Tensor([13 11 15], shape=(3,), dtype=int64)\n",
      "tf.Tensor([18 19 10], shape=(3,), dtype=int64)\n",
      "tf.Tensor([17 16], shape=(2,), dtype=int64)\n"
     ]
    }
   ],
   "source": [
    "for data in dataset_final:\n",
    "    print(data)"
   ]
  },
  {
   "cell_type": "markdown",
   "metadata": {
    "slideshow": {
     "slide_type": "slide"
    }
   },
   "source": [
    "# 문제 유형별 MLP 네트워크\n",
    "- Multi Layer Perceptron\n",
    "    - Fully Connected Layer로 구성된 네트워크"
   ]
  },
  {
   "cell_type": "markdown",
   "metadata": {
    "slideshow": {
     "slide_type": "fragment"
    }
   },
   "source": [
    "# Regression(회귀)\n",
    "\n",
    "## Boston Housing Dataset\n",
    "보스턴 주택가격 dataset은 다음과 같은 속성을 바탕으로 해당 타운 주택 가격의 중앙값을 예측하는 문제.\n",
    "- CRIM: 범죄율\n",
    "- ZN: 25,000 평방피트당 주거지역 비율\n",
    "- INDUS: 비소매 상업지구 비율\n",
    "- CHAS: 찰스강에 인접해 있는지 여부(인접:1, 아니면:0)\n",
    "- NOX: 일산화질소 농도(단위: 0.1ppm)\n",
    "- RM: 주택당 방의 수\n",
    "- AGE: 1940년 이전에 건설된 주택의 비율\n",
    "- DIS: 5개의 보스턴 직업고용센터와의 거리(가중 평균)\n",
    "- RAD: 고속도로 접근성\n",
    "- TAX: 재산세율\n",
    "- PTRATIO: 학생/교사 비율\n",
    "- B: 흑인 비율\n",
    "- LSTAT: 하위 계층 비율\n",
    "<br><br>\n",
    "- **Target**\n",
    "    - MEDV: 타운의 주택가격 중앙값(단위: 1,000달러)"
   ]
  },
  {
   "cell_type": "code",
   "execution_count": 132,
   "metadata": {
    "ExecuteTime": {
     "end_time": "2022-07-14T00:19:35.685789Z",
     "start_time": "2022-07-14T00:19:35.683376Z"
    },
    "slideshow": {
     "slide_type": "slide"
    }
   },
   "outputs": [],
   "source": [
    "import numpy as np\n",
    "\n",
    "import tensorflow as tf\n",
    "from tensorflow import keras\n",
    "\n",
    "from tensorflow.keras import layers"
   ]
  },
  {
   "cell_type": "code",
   "execution_count": 133,
   "metadata": {
    "ExecuteTime": {
     "end_time": "2022-07-14T00:19:35.741553Z",
     "start_time": "2022-07-14T00:19:35.699132Z"
    },
    "slideshow": {
     "slide_type": "fragment"
    }
   },
   "outputs": [],
   "source": [
    "np.random.seed(0)\n",
    "tf.random.set_seed(0)"
   ]
  },
  {
   "cell_type": "markdown",
   "metadata": {
    "slideshow": {
     "slide_type": "slide"
    }
   },
   "source": [
    "##### 데이터 로딩"
   ]
  },
  {
   "cell_type": "code",
   "execution_count": 134,
   "metadata": {
    "ExecuteTime": {
     "end_time": "2022-07-14T00:19:35.757201Z",
     "start_time": "2022-07-14T00:19:35.754054Z"
    },
    "slideshow": {
     "slide_type": "fragment"
    }
   },
   "outputs": [
    {
     "name": "stdout",
     "output_type": "stream",
     "text": [
      "(404, 13) (102, 13)\n",
      "(404,) (102,)\n"
     ]
    }
   ],
   "source": [
    "(train_X, train_y), (test_X, test_y) = keras.datasets.boston_housing.load_data()\n",
    "print(train_X.shape, test_X.shape)\n",
    "print(train_y.shape, test_y.shape)"
   ]
  },
  {
   "cell_type": "code",
   "execution_count": 135,
   "metadata": {
    "ExecuteTime": {
     "end_time": "2022-07-14T00:19:35.771790Z",
     "start_time": "2022-07-14T00:19:35.769122Z"
    },
    "scrolled": true,
    "slideshow": {
     "slide_type": "fragment"
    }
   },
   "outputs": [
    {
     "data": {
      "text/plain": [
       "array([[1.23247e+00, 0.00000e+00, 8.14000e+00, 0.00000e+00, 5.38000e-01,\n",
       "        6.14200e+00, 9.17000e+01, 3.97690e+00, 4.00000e+00, 3.07000e+02,\n",
       "        2.10000e+01, 3.96900e+02, 1.87200e+01],\n",
       "       [2.17700e-02, 8.25000e+01, 2.03000e+00, 0.00000e+00, 4.15000e-01,\n",
       "        7.61000e+00, 1.57000e+01, 6.27000e+00, 2.00000e+00, 3.48000e+02,\n",
       "        1.47000e+01, 3.95380e+02, 3.11000e+00],\n",
       "       [4.89822e+00, 0.00000e+00, 1.81000e+01, 0.00000e+00, 6.31000e-01,\n",
       "        4.97000e+00, 1.00000e+02, 1.33250e+00, 2.40000e+01, 6.66000e+02,\n",
       "        2.02000e+01, 3.75520e+02, 3.26000e+00],\n",
       "       [3.96100e-02, 0.00000e+00, 5.19000e+00, 0.00000e+00, 5.15000e-01,\n",
       "        6.03700e+00, 3.45000e+01, 5.98530e+00, 5.00000e+00, 2.24000e+02,\n",
       "        2.02000e+01, 3.96900e+02, 8.01000e+00],\n",
       "       [3.69311e+00, 0.00000e+00, 1.81000e+01, 0.00000e+00, 7.13000e-01,\n",
       "        6.37600e+00, 8.84000e+01, 2.56710e+00, 2.40000e+01, 6.66000e+02,\n",
       "        2.02000e+01, 3.91430e+02, 1.46500e+01]])"
      ]
     },
     "execution_count": 135,
     "metadata": {},
     "output_type": "execute_result"
    }
   ],
   "source": [
    "train_X[:5]"
   ]
  },
  {
   "cell_type": "code",
   "execution_count": 136,
   "metadata": {
    "ExecuteTime": {
     "end_time": "2022-07-14T00:19:35.786519Z",
     "start_time": "2022-07-14T00:19:35.784087Z"
    },
    "slideshow": {
     "slide_type": "fragment"
    }
   },
   "outputs": [
    {
     "data": {
      "text/plain": [
       "array([15.2, 42.3, 50. , 21.1, 17.7])"
      ]
     },
     "execution_count": 136,
     "metadata": {},
     "output_type": "execute_result"
    }
   ],
   "source": [
    "train_y[:5]"
   ]
  },
  {
   "cell_type": "markdown",
   "metadata": {
    "slideshow": {
     "slide_type": "slide"
    }
   },
   "source": [
    "##### 하이퍼파라미터, 변수 정의"
   ]
  },
  {
   "cell_type": "code",
   "execution_count": 137,
   "metadata": {
    "ExecuteTime": {
     "end_time": "2022-07-14T00:19:35.800163Z",
     "start_time": "2022-07-14T00:19:35.797820Z"
    },
    "slideshow": {
     "slide_type": "fragment"
    }
   },
   "outputs": [],
   "source": [
    "# 하이퍼 파라미터 => 한군데 몰아서 선언하는 것이 좋다\n",
    "LEARNING_RATE = 0.001  # 학습률\n",
    "N_EPOCHS  = 200        # epoch수: traindataset을 몇번 학습할지 횟수\n",
    "N_BATCHS = 32          # batch size: 1 step당 몇개의 데이터를 학습할지 (2의 거듭제곱한값)\n",
    "# 사용할 변수\n",
    "N_TRAIN = train_X.shape[0]   # train data의 개수\n",
    "N_TEST = test_X.shape[0]     # test data의 개수"
   ]
  },
  {
   "cell_type": "markdown",
   "metadata": {
    "slideshow": {
     "slide_type": "fragment"
    }
   },
   "source": [
    "##### X, y 전처리\n",
    "- MLP는 선형모델을 기반으로 하므로 Feature scaling을 해준다."
   ]
  },
  {
   "cell_type": "code",
   "execution_count": 138,
   "metadata": {
    "ExecuteTime": {
     "end_time": "2022-07-14T00:19:35.816298Z",
     "start_time": "2022-07-14T00:19:35.813264Z"
    },
    "slideshow": {
     "slide_type": "fragment"
    }
   },
   "outputs": [],
   "source": [
    "from sklearn.preprocessing import StandardScaler\n",
    "\n",
    "scaler = StandardScaler()\n",
    "X_train = scaler.fit_transform(train_X)\n",
    "X_test = scaler.transform(test_X)"
   ]
  },
  {
   "cell_type": "markdown",
   "metadata": {
    "slideshow": {
     "slide_type": "slide"
    }
   },
   "source": [
    "##### Dataset 생성"
   ]
  },
  {
   "cell_type": "code",
   "execution_count": 139,
   "metadata": {
    "ExecuteTime": {
     "end_time": "2022-07-14T00:19:35.839123Z",
     "start_time": "2022-07-14T00:19:35.829217Z"
    },
    "slideshow": {
     "slide_type": "fragment"
    }
   },
   "outputs": [],
   "source": [
    "# train set을 위한 dataset을 생성\n",
    "train_dataset = tf.data.Dataset.from_tensor_slices((X_train, train_y))\\\n",
    "                                .shuffle(N_TRAIN)\\\n",
    "                                .batch(N_BATCHS, drop_remainder=True)\n",
    "\n",
    "# (X_train, y_train)을 묶어서 제공\n",
    "# shuffle -> epoch 단위로 shuffl을 제공\n",
    "# batch size설정. Train set에서는 보통 drop_remainder=True로 설정. 각 step마다 동일 개수의 데이터셋을 학습하도록 하기위해\n",
    "    \n",
    "# validation dataset -> 학습하는 도중에 검증데이터로 사용할 dataset\n",
    "    \n",
    "# 최종 평가시 사용할 데이터셋\n",
    "test_dataset = tf.data.Dataset.from_tensor_slices((X_test, test_y)).batch(N_BATCHS)\n",
    "# test set의 batch_size : 전체 데이터를 묶어서 검ㅈ으하는 것이 아니라 batch_size 개수별로 검증해서 그 평균을 최종 평가 결과로 반환"
   ]
  },
  {
   "cell_type": "markdown",
   "metadata": {
    "slideshow": {
     "slide_type": "slide"
    }
   },
   "source": [
    "##### 모델 구현"
   ]
  },
  {
   "cell_type": "markdown",
   "metadata": {},
   "source": [
    "#### 모델 구현\n",
    "1. 모델을 생성 - Sequential 방식\n",
    "2. 모델에 Layer를 순서대로 추가\n",
    "    - Input Layer\n",
    "    - Hidden Layer 들 (layer의 unit수, layer의 개수 => 튜닝대상 (개수가 많을수록 복잡한 모델-overfitting발생할수있다)\n",
    "    - Output Layer"
   ]
  },
  {
   "cell_type": "code",
   "execution_count": 140,
   "metadata": {
    "ExecuteTime": {
     "end_time": "2022-07-14T00:19:35.854430Z",
     "start_time": "2022-07-14T00:19:35.851698Z"
    },
    "slideshow": {
     "slide_type": "fragment"
    }
   },
   "outputs": [],
   "source": [
    "def create_housing_model():\n",
    "    \n",
    "    model = keras.Sequential()\n",
    "#     model.add(InputLayer((13,)))  # Input Layer 추가 1. -> InputLayer생성=> Feature shape을 지정\n",
    "    model.add(layers.Dense(units=128, activation='relu', input_shape=(13,))) # Input Layer 추가 2 -> 첫번째 hidden layer추가하면서 input_shape속성에 feature에 shape 지종\n",
    "#     hidden layer 추가\n",
    "#     DenseLayer: units - unit의 개수, activation= 활성함수\n",
    "#     DenseLayer의 unit수는 점점 개수를 줄여나간다(관례적으로)\n",
    "    model.add(layers.Dense(units=64, activation='relu'))\n",
    "    model.add(layers.Dense(units=32, activation='relu'))\n",
    "    model.add(layers.Dense(units=16, activation='relu'))\n",
    "    \n",
    "#     Output Layer 추가\n",
    "#     회귀문제에 대한 output layer - units: 추론한 결과값(정답)에 대수에 맞춘다 - 집값1개 (unit=1), actuvation=None(기본값): 지정하지 않는다\n",
    "    model.add(layers.Dense(units=1))\n",
    "    \n",
    "    return model"
   ]
  },
  {
   "cell_type": "code",
   "execution_count": 141,
   "metadata": {
    "ExecuteTime": {
     "end_time": "2022-07-14T00:19:35.869014Z",
     "start_time": "2022-07-14T00:19:35.866422Z"
    }
   },
   "outputs": [],
   "source": [
    "def create_housing_model2():\n",
    "#     모델에 추가할 layer들을 리스트로 묶어서 Sequential 생성할때 넣어준다.\n",
    "    model = keras.Sequential([\n",
    "        layer.Dense(units=128, activation='relu', input_shape=(13,)),\n",
    "        layer.Dense(units=64, activation='relu'),\n",
    "        layer.Dense(units=32, activation='relu'),\n",
    "        layer.Dense(units=16, activation='relu'),\n",
    "        layer.Dense(units=1)\n",
    "    ])"
   ]
  },
  {
   "cell_type": "code",
   "execution_count": 142,
   "metadata": {
    "ExecuteTime": {
     "end_time": "2022-07-14T00:19:35.928398Z",
     "start_time": "2022-07-14T00:19:35.881357Z"
    },
    "slideshow": {
     "slide_type": "fragment"
    }
   },
   "outputs": [],
   "source": [
    "# 모델생성\n",
    "model = create_housing_model()\n",
    "# 모델 컴파일 - 모델을 학습할 수 있게 만들어 준다. => 모델에 optimizer와 loss함수를 추가\n",
    "# 회귀문제를 위한 모델 컴파일 -> loss: mse(mean squared error)\n",
    "# optimizer = 옵티마이저객체- learning rate등 설정을 할 경우, 문자열-기본설정을 사용할 경우\n",
    "model.compile(optimizer=keras.optimizers.Adam(learning_rate=LEARNING_RATE), loss='mse')"
   ]
  },
  {
   "cell_type": "code",
   "execution_count": 143,
   "metadata": {
    "ExecuteTime": {
     "end_time": "2022-07-14T00:19:35.948529Z",
     "start_time": "2022-07-14T00:19:35.941302Z"
    },
    "slideshow": {
     "slide_type": "fragment"
    }
   },
   "outputs": [
    {
     "name": "stdout",
     "output_type": "stream",
     "text": [
      "Model: \"sequential_4\"\n",
      "_________________________________________________________________\n",
      " Layer (type)                Output Shape              Param #   \n",
      "=================================================================\n",
      " dense_15 (Dense)            (None, 128)               1792      \n",
      "                                                                 \n",
      " dense_16 (Dense)            (None, 64)                8256      \n",
      "                                                                 \n",
      " dense_17 (Dense)            (None, 32)                2080      \n",
      "                                                                 \n",
      " dense_18 (Dense)            (None, 16)                528       \n",
      "                                                                 \n",
      " dense_19 (Dense)            (None, 1)                 17        \n",
      "                                                                 \n",
      "=================================================================\n",
      "Total params: 12,673\n",
      "Trainable params: 12,673\n",
      "Non-trainable params: 0\n",
      "_________________________________________________________________\n"
     ]
    }
   ],
   "source": [
    "# 생성된 모델의 구조를 확인\n",
    "model.summary()"
   ]
  },
  {
   "cell_type": "code",
   "execution_count": 144,
   "metadata": {
    "ExecuteTime": {
     "end_time": "2022-07-14T00:19:36.199625Z",
     "start_time": "2022-07-14T00:19:35.963038Z"
    },
    "slideshow": {
     "slide_type": "fragment"
    }
   },
   "outputs": [
    {
     "data": {
      "image/png": "[encoded data removed]",
      "text/plain": [
       "<IPython.core.display.Image object>"
      ]
     },
     "execution_count": 144,
     "metadata": {},
     "output_type": "execute_result"
    }
   ],
   "source": [
    "# keras.utils.plot_model(model)  # 모델의 구조를 graphviz를 이용해서 시각화\n",
    "# keras.utils.plot_model(model, show_shapes=True) # 각 layer의 input shape와 output shape를 같이 시각화\n",
    "keras.utils.plot_model(model, show_shapes=True, to_file='housing_model.png') # to_file: 저장파일경로 지정"
   ]
  },
  {
   "cell_type": "markdown",
   "metadata": {
    "slideshow": {
     "slide_type": "slide"
    }
   },
   "source": [
    "##### 학습(Train)"
   ]
  },
  {
   "cell_type": "code",
   "execution_count": 145,
   "metadata": {
    "ExecuteTime": {
     "end_time": "2022-07-14T00:19:53.994258Z",
     "start_time": "2022-07-14T00:19:36.213785Z"
    },
    "scrolled": true,
    "slideshow": {
     "slide_type": "fragment"
    }
   },
   "outputs": [
    {
     "name": "stdout",
     "output_type": "stream",
     "text": [
      "Epoch 1/200\n",
      "11/12 [==========================>...] - ETA: 0s - loss: 593.2320"
     ]
    },
    {
     "name": "stderr",
     "output_type": "stream",
     "text": [
      "2022-07-14 09:19:36.373362: I tensorflow/core/grappler/optimizers/custom_graph_optimizer_registry.cc:113] Plugin optimizer for device_type GPU is enabled.\n",
      "2022-07-14 09:19:36.536232: I tensorflow/core/grappler/optimizers/custom_graph_optimizer_registry.cc:113] Plugin optimizer for device_type GPU is enabled.\n"
     ]
    },
    {
     "name": "stdout",
     "output_type": "stream",
     "text": [
      "12/12 [==============================] - 0s 14ms/step - loss: 577.3931 - val_loss: 588.7252\n",
      "Epoch 2/200\n",
      "12/12 [==============================] - 0s 19ms/step - loss: 535.2087 - val_loss: 528.5539\n",
      "Epoch 3/200\n",
      "12/12 [==============================] - 0s 7ms/step - loss: 449.3877 - val_loss: 395.9604\n",
      "Epoch 4/200\n",
      "12/12 [==============================] - 0s 15ms/step - loss: 285.8781 - val_loss: 178.5878\n",
      "Epoch 5/200\n",
      "12/12 [==============================] - 0s 7ms/step - loss: 109.0846 - val_loss: 73.3984\n",
      "Epoch 6/200\n",
      "12/12 [==============================] - 0s 8ms/step - loss: 65.2829 - val_loss: 45.6338\n",
      "Epoch 7/200\n",
      "12/12 [==============================] - 0s 16ms/step - loss: 39.5781 - val_loss: 34.2213\n",
      "Epoch 8/200\n",
      "12/12 [==============================] - 0s 7ms/step - loss: 28.1577 - val_loss: 27.1693\n",
      "Epoch 9/200\n",
      "12/12 [==============================] - 0s 7ms/step - loss: 23.3589 - val_loss: 25.1920\n",
      "Epoch 10/200\n",
      "12/12 [==============================] - 0s 8ms/step - loss: 19.0858 - val_loss: 24.1038\n",
      "Epoch 11/200\n",
      "12/12 [==============================] - 0s 15ms/step - loss: 19.5038 - val_loss: 23.9689\n",
      "Epoch 12/200\n",
      "12/12 [==============================] - 0s 8ms/step - loss: 17.9861 - val_loss: 23.8935\n",
      "Epoch 13/200\n",
      "12/12 [==============================] - 0s 8ms/step - loss: 14.9528 - val_loss: 23.4287\n",
      "Epoch 14/200\n",
      "12/12 [==============================] - 0s 8ms/step - loss: 15.2748 - val_loss: 22.8110\n",
      "Epoch 15/200\n",
      "12/12 [==============================] - 0s 11ms/step - loss: 14.5906 - val_loss: 22.0152\n",
      "Epoch 16/200\n",
      "12/12 [==============================] - 0s 7ms/step - loss: 12.4829 - val_loss: 22.9588\n",
      "Epoch 17/200\n",
      "12/12 [==============================] - 0s 8ms/step - loss: 12.8525 - val_loss: 22.8013\n",
      "Epoch 18/200\n",
      "12/12 [==============================] - 0s 9ms/step - loss: 12.8073 - val_loss: 22.6518\n",
      "Epoch 19/200\n",
      "12/12 [==============================] - 0s 8ms/step - loss: 12.0775 - val_loss: 22.9793\n",
      "Epoch 20/200\n",
      "12/12 [==============================] - 0s 8ms/step - loss: 11.9681 - val_loss: 22.2733\n",
      "Epoch 21/200\n",
      "12/12 [==============================] - 0s 8ms/step - loss: 11.4987 - val_loss: 23.1310\n",
      "Epoch 22/200\n",
      "12/12 [==============================] - 0s 7ms/step - loss: 11.2264 - val_loss: 23.4075\n",
      "Epoch 23/200\n",
      "12/12 [==============================] - 0s 8ms/step - loss: 10.7186 - val_loss: 23.4467\n",
      "Epoch 24/200\n",
      "12/12 [==============================] - 0s 7ms/step - loss: 10.1350 - val_loss: 24.0128\n",
      "Epoch 25/200\n",
      "12/12 [==============================] - 0s 19ms/step - loss: 10.4290 - val_loss: 23.1798\n",
      "Epoch 26/200\n",
      "12/12 [==============================] - 0s 7ms/step - loss: 10.1144 - val_loss: 21.9742\n",
      "Epoch 27/200\n",
      "12/12 [==============================] - 0s 7ms/step - loss: 9.3101 - val_loss: 23.3579\n",
      "Epoch 28/200\n",
      "12/12 [==============================] - 0s 8ms/step - loss: 9.9603 - val_loss: 22.3168\n",
      "Epoch 29/200\n",
      "12/12 [==============================] - 0s 8ms/step - loss: 9.5686 - val_loss: 23.8143\n",
      "Epoch 30/200\n",
      "12/12 [==============================] - 0s 8ms/step - loss: 9.4564 - val_loss: 23.7639\n",
      "Epoch 31/200\n",
      "12/12 [==============================] - 0s 8ms/step - loss: 9.4679 - val_loss: 23.7511\n",
      "Epoch 32/200\n",
      "12/12 [==============================] - 0s 8ms/step - loss: 9.2971 - val_loss: 23.1162\n",
      "Epoch 33/200\n",
      "12/12 [==============================] - 0s 9ms/step - loss: 9.3193 - val_loss: 22.3857\n",
      "Epoch 34/200\n",
      "12/12 [==============================] - 0s 10ms/step - loss: 8.4993 - val_loss: 23.0814\n",
      "Epoch 35/200\n",
      "12/12 [==============================] - 0s 8ms/step - loss: 9.0766 - val_loss: 21.6564\n",
      "Epoch 36/200\n",
      "12/12 [==============================] - 0s 8ms/step - loss: 8.8367 - val_loss: 22.3627\n",
      "Epoch 37/200\n",
      "12/12 [==============================] - 0s 7ms/step - loss: 8.7469 - val_loss: 22.1713\n",
      "Epoch 38/200\n",
      "12/12 [==============================] - 0s 7ms/step - loss: 8.4355 - val_loss: 22.7597\n",
      "Epoch 39/200\n",
      "12/12 [==============================] - 0s 8ms/step - loss: 8.3183 - val_loss: 22.8467\n",
      "Epoch 40/200\n",
      "12/12 [==============================] - 0s 8ms/step - loss: 8.3826 - val_loss: 22.1943\n",
      "Epoch 41/200\n",
      "12/12 [==============================] - 0s 7ms/step - loss: 8.2722 - val_loss: 22.7475\n",
      "Epoch 42/200\n",
      "12/12 [==============================] - 0s 7ms/step - loss: 8.5546 - val_loss: 20.8880\n",
      "Epoch 43/200\n",
      "12/12 [==============================] - 0s 7ms/step - loss: 8.1958 - val_loss: 22.8061\n",
      "Epoch 44/200\n",
      "12/12 [==============================] - 0s 7ms/step - loss: 8.1359 - val_loss: 21.5673\n",
      "Epoch 45/200\n",
      "12/12 [==============================] - 0s 8ms/step - loss: 8.2443 - val_loss: 20.6096\n",
      "Epoch 46/200\n",
      "12/12 [==============================] - 0s 7ms/step - loss: 8.1504 - val_loss: 22.3129\n",
      "Epoch 47/200\n",
      "12/12 [==============================] - 0s 8ms/step - loss: 7.2995 - val_loss: 20.7983\n",
      "Epoch 48/200\n",
      "12/12 [==============================] - 0s 8ms/step - loss: 7.1838 - val_loss: 21.3250\n",
      "Epoch 49/200\n",
      "12/12 [==============================] - 0s 8ms/step - loss: 7.6557 - val_loss: 20.8409\n",
      "Epoch 50/200\n",
      "12/12 [==============================] - 0s 7ms/step - loss: 7.2745 - val_loss: 21.3178\n",
      "Epoch 51/200\n",
      "12/12 [==============================] - 0s 8ms/step - loss: 7.7236 - val_loss: 21.2124\n",
      "Epoch 52/200\n",
      "12/12 [==============================] - 0s 7ms/step - loss: 7.1575 - val_loss: 20.9514\n",
      "Epoch 53/200\n",
      "12/12 [==============================] - 0s 7ms/step - loss: 7.3974 - val_loss: 21.2287\n",
      "Epoch 54/200\n",
      "12/12 [==============================] - 0s 7ms/step - loss: 7.6223 - val_loss: 21.7045\n",
      "Epoch 55/200\n",
      "12/12 [==============================] - 0s 7ms/step - loss: 6.8363 - val_loss: 19.0625\n",
      "Epoch 56/200\n",
      "12/12 [==============================] - 0s 7ms/step - loss: 7.1780 - val_loss: 20.7585\n",
      "Epoch 57/200\n",
      "12/12 [==============================] - 0s 7ms/step - loss: 6.9714 - val_loss: 19.7988\n",
      "Epoch 58/200\n",
      "12/12 [==============================] - 0s 7ms/step - loss: 7.0688 - val_loss: 20.6870\n",
      "Epoch 59/200\n",
      "12/12 [==============================] - 0s 6ms/step - loss: 6.7409 - val_loss: 20.4789\n",
      "Epoch 60/200\n",
      "12/12 [==============================] - 0s 6ms/step - loss: 6.8936 - val_loss: 20.2278\n",
      "Epoch 61/200\n",
      "12/12 [==============================] - 0s 7ms/step - loss: 6.8718 - val_loss: 19.7111\n",
      "Epoch 62/200\n",
      "12/12 [==============================] - 0s 7ms/step - loss: 6.9100 - val_loss: 20.6443\n",
      "Epoch 63/200\n",
      "12/12 [==============================] - 0s 7ms/step - loss: 5.9342 - val_loss: 19.0413\n",
      "Epoch 64/200\n",
      "12/12 [==============================] - 0s 7ms/step - loss: 6.4499 - val_loss: 19.1556\n",
      "Epoch 65/200\n",
      "12/12 [==============================] - 0s 6ms/step - loss: 6.4882 - val_loss: 19.6991\n",
      "Epoch 66/200\n",
      "12/12 [==============================] - 0s 7ms/step - loss: 6.4122 - val_loss: 19.7918\n",
      "Epoch 67/200\n",
      "12/12 [==============================] - 0s 6ms/step - loss: 6.4037 - val_loss: 19.7953\n",
      "Epoch 68/200\n",
      "12/12 [==============================] - 0s 6ms/step - loss: 6.4106 - val_loss: 18.7214\n",
      "Epoch 69/200\n",
      "12/12 [==============================] - 0s 7ms/step - loss: 6.4010 - val_loss: 18.5053\n",
      "Epoch 70/200\n",
      "12/12 [==============================] - 0s 6ms/step - loss: 6.2613 - val_loss: 18.4871\n",
      "Epoch 71/200\n",
      "12/12 [==============================] - 0s 6ms/step - loss: 6.2133 - val_loss: 18.6136\n",
      "Epoch 72/200\n",
      "12/12 [==============================] - 0s 6ms/step - loss: 6.0772 - val_loss: 18.2435\n",
      "Epoch 73/200\n",
      "12/12 [==============================] - 0s 7ms/step - loss: 6.1677 - val_loss: 17.8395\n",
      "Epoch 74/200\n",
      "12/12 [==============================] - 0s 7ms/step - loss: 5.9172 - val_loss: 18.6707\n",
      "Epoch 75/200\n",
      "12/12 [==============================] - 0s 7ms/step - loss: 6.0359 - val_loss: 17.8350\n",
      "Epoch 76/200\n",
      "12/12 [==============================] - 0s 6ms/step - loss: 6.2092 - val_loss: 17.7797\n",
      "Epoch 77/200\n",
      "12/12 [==============================] - 0s 6ms/step - loss: 6.0612 - val_loss: 17.0545\n",
      "Epoch 78/200\n",
      "12/12 [==============================] - 0s 7ms/step - loss: 6.0543 - val_loss: 17.2667\n",
      "Epoch 79/200\n",
      "12/12 [==============================] - 0s 7ms/step - loss: 5.4511 - val_loss: 17.7232\n",
      "Epoch 80/200\n",
      "12/12 [==============================] - 0s 6ms/step - loss: 5.8370 - val_loss: 17.0910\n",
      "Epoch 81/200\n",
      "12/12 [==============================] - 0s 7ms/step - loss: 5.7644 - val_loss: 16.7649\n"
     ]
    },
    {
     "name": "stdout",
     "output_type": "stream",
     "text": [
      "Epoch 82/200\n",
      "12/12 [==============================] - 0s 7ms/step - loss: 5.7363 - val_loss: 17.0651\n",
      "Epoch 83/200\n",
      "12/12 [==============================] - 0s 6ms/step - loss: 5.6796 - val_loss: 16.5922\n",
      "Epoch 84/200\n",
      "12/12 [==============================] - 0s 6ms/step - loss: 5.5982 - val_loss: 16.6623\n",
      "Epoch 85/200\n",
      "12/12 [==============================] - 0s 6ms/step - loss: 5.4276 - val_loss: 16.0767\n",
      "Epoch 86/200\n",
      "12/12 [==============================] - 0s 6ms/step - loss: 5.3657 - val_loss: 16.9969\n",
      "Epoch 87/200\n",
      "12/12 [==============================] - 0s 6ms/step - loss: 5.2746 - val_loss: 15.6867\n",
      "Epoch 88/200\n",
      "12/12 [==============================] - 0s 7ms/step - loss: 5.2861 - val_loss: 17.2043\n",
      "Epoch 89/200\n",
      "12/12 [==============================] - 0s 6ms/step - loss: 5.2864 - val_loss: 15.9690\n",
      "Epoch 90/200\n",
      "12/12 [==============================] - 0s 6ms/step - loss: 5.1564 - val_loss: 15.1664\n",
      "Epoch 91/200\n",
      "12/12 [==============================] - 0s 6ms/step - loss: 5.1356 - val_loss: 15.1962\n",
      "Epoch 92/200\n",
      "12/12 [==============================] - 0s 7ms/step - loss: 5.1624 - val_loss: 15.8834\n",
      "Epoch 93/200\n",
      "12/12 [==============================] - 0s 7ms/step - loss: 5.1968 - val_loss: 15.1591\n",
      "Epoch 94/200\n",
      "12/12 [==============================] - 0s 6ms/step - loss: 5.2585 - val_loss: 15.3656\n",
      "Epoch 95/200\n",
      "12/12 [==============================] - 0s 7ms/step - loss: 5.0715 - val_loss: 15.7983\n",
      "Epoch 96/200\n",
      "12/12 [==============================] - 0s 7ms/step - loss: 4.8417 - val_loss: 14.5655\n",
      "Epoch 97/200\n",
      "12/12 [==============================] - 0s 6ms/step - loss: 4.7378 - val_loss: 14.9113\n",
      "Epoch 98/200\n",
      "12/12 [==============================] - 0s 7ms/step - loss: 4.7639 - val_loss: 14.9341\n",
      "Epoch 99/200\n",
      "12/12 [==============================] - 0s 6ms/step - loss: 4.3297 - val_loss: 14.3241\n",
      "Epoch 100/200\n",
      "12/12 [==============================] - 0s 7ms/step - loss: 4.6097 - val_loss: 14.3990\n",
      "Epoch 101/200\n",
      "12/12 [==============================] - 0s 7ms/step - loss: 4.9297 - val_loss: 15.3283\n",
      "Epoch 102/200\n",
      "12/12 [==============================] - 0s 7ms/step - loss: 4.8177 - val_loss: 14.0214\n",
      "Epoch 103/200\n",
      "12/12 [==============================] - 0s 6ms/step - loss: 4.9784 - val_loss: 15.7188\n",
      "Epoch 104/200\n",
      "12/12 [==============================] - 0s 7ms/step - loss: 4.5052 - val_loss: 13.3718\n",
      "Epoch 105/200\n",
      "12/12 [==============================] - 0s 7ms/step - loss: 4.3537 - val_loss: 13.5131\n",
      "Epoch 106/200\n",
      "12/12 [==============================] - 0s 7ms/step - loss: 4.6458 - val_loss: 14.0405\n",
      "Epoch 107/200\n",
      "12/12 [==============================] - 0s 7ms/step - loss: 4.5489 - val_loss: 13.7931\n",
      "Epoch 108/200\n",
      "12/12 [==============================] - 0s 7ms/step - loss: 4.3616 - val_loss: 14.2927\n",
      "Epoch 109/200\n",
      "12/12 [==============================] - 0s 8ms/step - loss: 4.4395 - val_loss: 13.5170\n",
      "Epoch 110/200\n",
      "12/12 [==============================] - 0s 8ms/step - loss: 4.1768 - val_loss: 13.3272\n",
      "Epoch 111/200\n",
      "12/12 [==============================] - 0s 8ms/step - loss: 4.3917 - val_loss: 13.3961\n",
      "Epoch 112/200\n",
      "12/12 [==============================] - 0s 8ms/step - loss: 4.4549 - val_loss: 13.1367\n",
      "Epoch 113/200\n",
      "12/12 [==============================] - 0s 8ms/step - loss: 3.8077 - val_loss: 13.1510\n",
      "Epoch 114/200\n",
      "12/12 [==============================] - 0s 8ms/step - loss: 4.1502 - val_loss: 14.4304\n",
      "Epoch 115/200\n",
      "12/12 [==============================] - 0s 8ms/step - loss: 4.4376 - val_loss: 13.4099\n",
      "Epoch 116/200\n",
      "12/12 [==============================] - 0s 7ms/step - loss: 4.1383 - val_loss: 12.4507\n",
      "Epoch 117/200\n",
      "12/12 [==============================] - 0s 7ms/step - loss: 3.9059 - val_loss: 12.7999\n",
      "Epoch 118/200\n",
      "12/12 [==============================] - 0s 7ms/step - loss: 3.7819 - val_loss: 12.8971\n",
      "Epoch 119/200\n",
      "12/12 [==============================] - 0s 6ms/step - loss: 3.8787 - val_loss: 12.8321\n",
      "Epoch 120/200\n",
      "12/12 [==============================] - 0s 7ms/step - loss: 3.9147 - val_loss: 12.5247\n",
      "Epoch 121/200\n",
      "12/12 [==============================] - 0s 7ms/step - loss: 4.0570 - val_loss: 13.2969\n",
      "Epoch 122/200\n",
      "12/12 [==============================] - 0s 6ms/step - loss: 3.8983 - val_loss: 12.9636\n",
      "Epoch 123/200\n",
      "12/12 [==============================] - 0s 6ms/step - loss: 3.7759 - val_loss: 13.1221\n",
      "Epoch 124/200\n",
      "12/12 [==============================] - 0s 6ms/step - loss: 3.8708 - val_loss: 14.8472\n",
      "Epoch 125/200\n",
      "12/12 [==============================] - 0s 6ms/step - loss: 3.7332 - val_loss: 11.8134\n",
      "Epoch 126/200\n",
      "12/12 [==============================] - 0s 6ms/step - loss: 3.6143 - val_loss: 12.4734\n",
      "Epoch 127/200\n",
      "12/12 [==============================] - 0s 6ms/step - loss: 3.7044 - val_loss: 12.7730\n",
      "Epoch 128/200\n",
      "12/12 [==============================] - 0s 6ms/step - loss: 3.4610 - val_loss: 12.4946\n",
      "Epoch 129/200\n",
      "12/12 [==============================] - 0s 7ms/step - loss: 3.4303 - val_loss: 12.0874\n",
      "Epoch 130/200\n",
      "12/12 [==============================] - 0s 6ms/step - loss: 3.6640 - val_loss: 13.0431\n",
      "Epoch 131/200\n",
      "12/12 [==============================] - 0s 6ms/step - loss: 3.5557 - val_loss: 12.1866\n",
      "Epoch 132/200\n",
      "12/12 [==============================] - 0s 5ms/step - loss: 3.1302 - val_loss: 12.3626\n",
      "Epoch 133/200\n",
      "12/12 [==============================] - 0s 6ms/step - loss: 3.4915 - val_loss: 12.6500\n",
      "Epoch 134/200\n",
      "12/12 [==============================] - 0s 6ms/step - loss: 3.2968 - val_loss: 11.7356\n",
      "Epoch 135/200\n",
      "12/12 [==============================] - 0s 6ms/step - loss: 3.1310 - val_loss: 12.0994\n",
      "Epoch 136/200\n",
      "12/12 [==============================] - 0s 6ms/step - loss: 3.6202 - val_loss: 12.5482\n",
      "Epoch 137/200\n",
      "12/12 [==============================] - 0s 5ms/step - loss: 3.4286 - val_loss: 11.9665\n",
      "Epoch 138/200\n",
      "12/12 [==============================] - 0s 6ms/step - loss: 3.0960 - val_loss: 13.4568\n",
      "Epoch 139/200\n",
      "12/12 [==============================] - 0s 6ms/step - loss: 3.4365 - val_loss: 13.3608\n",
      "Epoch 140/200\n",
      "12/12 [==============================] - 0s 5ms/step - loss: 3.3218 - val_loss: 11.4969\n",
      "Epoch 141/200\n",
      "12/12 [==============================] - 0s 7ms/step - loss: 3.1498 - val_loss: 11.6501\n",
      "Epoch 142/200\n",
      "12/12 [==============================] - 0s 6ms/step - loss: 3.1431 - val_loss: 11.8677\n",
      "Epoch 143/200\n",
      "12/12 [==============================] - 0s 6ms/step - loss: 3.1975 - val_loss: 12.0146\n",
      "Epoch 144/200\n",
      "12/12 [==============================] - 0s 7ms/step - loss: 2.9740 - val_loss: 12.3358\n",
      "Epoch 145/200\n",
      "12/12 [==============================] - 0s 7ms/step - loss: 3.1836 - val_loss: 11.5579\n",
      "Epoch 146/200\n",
      "12/12 [==============================] - 0s 6ms/step - loss: 3.0372 - val_loss: 12.6166\n",
      "Epoch 147/200\n",
      "12/12 [==============================] - 0s 7ms/step - loss: 3.1265 - val_loss: 11.6488\n",
      "Epoch 148/200\n",
      "12/12 [==============================] - 0s 7ms/step - loss: 3.1255 - val_loss: 11.7146\n",
      "Epoch 149/200\n",
      "12/12 [==============================] - 0s 7ms/step - loss: 3.0326 - val_loss: 12.1720\n",
      "Epoch 150/200\n",
      "12/12 [==============================] - 0s 6ms/step - loss: 2.8934 - val_loss: 12.0679\n",
      "Epoch 151/200\n",
      "12/12 [==============================] - 0s 7ms/step - loss: 2.9105 - val_loss: 11.9782\n",
      "Epoch 152/200\n",
      "12/12 [==============================] - 0s 6ms/step - loss: 2.8443 - val_loss: 11.8994\n",
      "Epoch 153/200\n",
      "12/12 [==============================] - 0s 7ms/step - loss: 2.8320 - val_loss: 11.3632\n",
      "Epoch 154/200\n",
      "12/12 [==============================] - 0s 7ms/step - loss: 2.8057 - val_loss: 12.3914\n",
      "Epoch 155/200\n",
      "12/12 [==============================] - 0s 7ms/step - loss: 2.6567 - val_loss: 12.1543\n",
      "Epoch 156/200\n",
      "12/12 [==============================] - 0s 6ms/step - loss: 2.8126 - val_loss: 12.0689\n",
      "Epoch 157/200\n",
      "12/12 [==============================] - 0s 6ms/step - loss: 2.7761 - val_loss: 12.4683\n",
      "Epoch 158/200\n",
      "12/12 [==============================] - 0s 6ms/step - loss: 2.9435 - val_loss: 11.9930\n",
      "Epoch 159/200\n",
      "12/12 [==============================] - 0s 6ms/step - loss: 2.8648 - val_loss: 12.1273\n",
      "Epoch 160/200\n",
      "12/12 [==============================] - 0s 7ms/step - loss: 2.8816 - val_loss: 11.8229\n",
      "Epoch 161/200\n",
      "12/12 [==============================] - 0s 7ms/step - loss: 2.8426 - val_loss: 12.6797\n",
      "Epoch 162/200\n"
     ]
    },
    {
     "name": "stdout",
     "output_type": "stream",
     "text": [
      "12/12 [==============================] - 0s 7ms/step - loss: 2.9075 - val_loss: 12.4284\n",
      "Epoch 163/200\n",
      "12/12 [==============================] - 0s 7ms/step - loss: 2.8501 - val_loss: 12.0242\n",
      "Epoch 164/200\n",
      "12/12 [==============================] - 0s 7ms/step - loss: 2.6896 - val_loss: 11.3893\n",
      "Epoch 165/200\n",
      "12/12 [==============================] - 0s 7ms/step - loss: 2.5641 - val_loss: 11.2503\n",
      "Epoch 166/200\n",
      "12/12 [==============================] - 0s 7ms/step - loss: 2.6795 - val_loss: 11.4407\n",
      "Epoch 167/200\n",
      "12/12 [==============================] - 0s 5ms/step - loss: 2.5644 - val_loss: 11.7607\n",
      "Epoch 168/200\n",
      "12/12 [==============================] - 0s 6ms/step - loss: 2.4777 - val_loss: 11.6220\n",
      "Epoch 169/200\n",
      "12/12 [==============================] - 0s 6ms/step - loss: 2.4739 - val_loss: 12.1093\n",
      "Epoch 170/200\n",
      "12/12 [==============================] - 0s 7ms/step - loss: 2.5129 - val_loss: 11.5962\n",
      "Epoch 171/200\n",
      "12/12 [==============================] - 0s 7ms/step - loss: 2.4458 - val_loss: 11.7695\n",
      "Epoch 172/200\n",
      "12/12 [==============================] - 0s 7ms/step - loss: 2.5164 - val_loss: 11.3119\n",
      "Epoch 173/200\n",
      "12/12 [==============================] - 0s 7ms/step - loss: 2.5704 - val_loss: 11.9202\n",
      "Epoch 174/200\n",
      "12/12 [==============================] - 0s 8ms/step - loss: 2.5940 - val_loss: 12.0755\n",
      "Epoch 175/200\n",
      "12/12 [==============================] - 0s 6ms/step - loss: 2.5064 - val_loss: 11.8688\n",
      "Epoch 176/200\n",
      "12/12 [==============================] - 0s 7ms/step - loss: 2.4610 - val_loss: 11.5289\n",
      "Epoch 177/200\n",
      "12/12 [==============================] - 0s 7ms/step - loss: 2.2976 - val_loss: 11.7760\n",
      "Epoch 178/200\n",
      "12/12 [==============================] - 0s 7ms/step - loss: 2.2929 - val_loss: 12.8898\n",
      "Epoch 179/200\n",
      "12/12 [==============================] - 0s 7ms/step - loss: 2.3787 - val_loss: 11.6596\n",
      "Epoch 180/200\n",
      "12/12 [==============================] - 0s 7ms/step - loss: 2.3184 - val_loss: 11.7457\n",
      "Epoch 181/200\n",
      "12/12 [==============================] - 0s 7ms/step - loss: 2.3558 - val_loss: 12.1627\n",
      "Epoch 182/200\n",
      "12/12 [==============================] - 0s 6ms/step - loss: 2.1556 - val_loss: 12.9299\n",
      "Epoch 183/200\n",
      "12/12 [==============================] - 0s 7ms/step - loss: 2.4918 - val_loss: 12.1621\n",
      "Epoch 184/200\n",
      "12/12 [==============================] - 0s 7ms/step - loss: 2.6235 - val_loss: 12.2590\n",
      "Epoch 185/200\n",
      "12/12 [==============================] - 0s 7ms/step - loss: 2.5934 - val_loss: 12.3817\n",
      "Epoch 186/200\n",
      "12/12 [==============================] - 0s 7ms/step - loss: 2.2400 - val_loss: 12.2950\n",
      "Epoch 187/200\n",
      "12/12 [==============================] - 0s 7ms/step - loss: 2.0981 - val_loss: 11.8566\n",
      "Epoch 188/200\n",
      "12/12 [==============================] - 0s 6ms/step - loss: 2.3063 - val_loss: 11.3287\n",
      "Epoch 189/200\n",
      "12/12 [==============================] - 0s 7ms/step - loss: 2.2139 - val_loss: 12.0044\n",
      "Epoch 190/200\n",
      "12/12 [==============================] - 0s 7ms/step - loss: 2.0838 - val_loss: 12.0408\n",
      "Epoch 191/200\n",
      "12/12 [==============================] - 0s 6ms/step - loss: 2.0362 - val_loss: 11.7684\n",
      "Epoch 192/200\n",
      "12/12 [==============================] - 0s 6ms/step - loss: 2.0199 - val_loss: 11.8044\n",
      "Epoch 193/200\n",
      "12/12 [==============================] - 0s 7ms/step - loss: 2.1140 - val_loss: 12.3931\n",
      "Epoch 194/200\n",
      "12/12 [==============================] - 0s 7ms/step - loss: 2.3083 - val_loss: 13.2482\n",
      "Epoch 195/200\n",
      "12/12 [==============================] - 0s 6ms/step - loss: 2.1220 - val_loss: 12.5457\n",
      "Epoch 196/200\n",
      "12/12 [==============================] - 0s 7ms/step - loss: 1.8324 - val_loss: 12.7050\n",
      "Epoch 197/200\n",
      "12/12 [==============================] - 0s 7ms/step - loss: 2.0503 - val_loss: 12.1619\n",
      "Epoch 198/200\n",
      "12/12 [==============================] - 0s 7ms/step - loss: 1.9140 - val_loss: 12.0400\n",
      "Epoch 199/200\n",
      "12/12 [==============================] - 0s 6ms/step - loss: 1.8249 - val_loss: 12.7154\n",
      "Epoch 200/200\n",
      "12/12 [==============================] - 0s 7ms/step - loss: 2.0288 - val_loss: 12.7081\n"
     ]
    }
   ],
   "source": [
    "hist = model.fit(train_dataset,\n",
    "                 epochs=N_EPOCHS,\n",
    "                 validation_data=test_dataset)"
   ]
  },
  {
   "cell_type": "code",
   "execution_count": 146,
   "metadata": {
    "ExecuteTime": {
     "end_time": "2022-07-14T00:19:54.009784Z",
     "start_time": "2022-07-14T00:19:54.005956Z"
    }
   },
   "outputs": [
    {
     "data": {
      "text/plain": [
       "{'loss': [577.3931274414062,\n",
       "  535.208740234375,\n",
       "  449.3876953125,\n",
       "  285.8780517578125,\n",
       "  109.08464813232422,\n",
       "  65.28291320800781,\n",
       "  39.57807922363281,\n",
       "  28.15766716003418,\n",
       "  23.358901977539062,\n",
       "  19.08582305908203,\n",
       "  19.503826141357422,\n",
       "  17.986114501953125,\n",
       "  14.95280647277832,\n",
       "  15.274832725524902,\n",
       "  14.590631484985352,\n",
       "  12.482928276062012,\n",
       "  12.852462768554688,\n",
       "  12.80726146697998,\n",
       "  12.077491760253906,\n",
       "  11.968055725097656,\n",
       "  11.49866771697998,\n",
       "  11.226449966430664,\n",
       "  10.718620300292969,\n",
       "  10.135026931762695,\n",
       "  10.429023742675781,\n",
       "  10.114408493041992,\n",
       "  9.310066223144531,\n",
       "  9.960269927978516,\n",
       "  9.56862735748291,\n",
       "  9.456390380859375,\n",
       "  9.467851638793945,\n",
       "  9.297124862670898,\n",
       "  9.319253921508789,\n",
       "  8.499340057373047,\n",
       "  9.076608657836914,\n",
       "  8.836747169494629,\n",
       "  8.746879577636719,\n",
       "  8.435548782348633,\n",
       "  8.318286895751953,\n",
       "  8.382619857788086,\n",
       "  8.272159576416016,\n",
       "  8.554559707641602,\n",
       "  8.195752143859863,\n",
       "  8.135876655578613,\n",
       "  8.244293212890625,\n",
       "  8.150400161743164,\n",
       "  7.299489974975586,\n",
       "  7.1837897300720215,\n",
       "  7.655735015869141,\n",
       "  7.274479866027832,\n",
       "  7.723613262176514,\n",
       "  7.1574625968933105,\n",
       "  7.397426128387451,\n",
       "  7.622292995452881,\n",
       "  6.83627986907959,\n",
       "  7.1780009269714355,\n",
       "  6.971445083618164,\n",
       "  7.068819999694824,\n",
       "  6.740851879119873,\n",
       "  6.893597602844238,\n",
       "  6.871827125549316,\n",
       "  6.909999370574951,\n",
       "  5.934224605560303,\n",
       "  6.449883460998535,\n",
       "  6.488234996795654,\n",
       "  6.412158966064453,\n",
       "  6.403715133666992,\n",
       "  6.410647392272949,\n",
       "  6.400991439819336,\n",
       "  6.261284828186035,\n",
       "  6.213275909423828,\n",
       "  6.077249526977539,\n",
       "  6.167716979980469,\n",
       "  5.917159080505371,\n",
       "  6.0359296798706055,\n",
       "  6.209171295166016,\n",
       "  6.06123685836792,\n",
       "  6.0543341636657715,\n",
       "  5.451131820678711,\n",
       "  5.83698034286499,\n",
       "  5.764386177062988,\n",
       "  5.736293315887451,\n",
       "  5.679555416107178,\n",
       "  5.598197937011719,\n",
       "  5.427611351013184,\n",
       "  5.365664482116699,\n",
       "  5.27459716796875,\n",
       "  5.2860541343688965,\n",
       "  5.2863969802856445,\n",
       "  5.156350612640381,\n",
       "  5.135602951049805,\n",
       "  5.16242790222168,\n",
       "  5.196811199188232,\n",
       "  5.25850772857666,\n",
       "  5.071536540985107,\n",
       "  4.841710567474365,\n",
       "  4.737813472747803,\n",
       "  4.763879776000977,\n",
       "  4.329690456390381,\n",
       "  4.609652042388916,\n",
       "  4.9296793937683105,\n",
       "  4.817742824554443,\n",
       "  4.978433132171631,\n",
       "  4.505188941955566,\n",
       "  4.353726863861084,\n",
       "  4.645845413208008,\n",
       "  4.548864364624023,\n",
       "  4.361620903015137,\n",
       "  4.439471244812012,\n",
       "  4.176759719848633,\n",
       "  4.391669750213623,\n",
       "  4.454896450042725,\n",
       "  3.807651996612549,\n",
       "  4.150150299072266,\n",
       "  4.4376115798950195,\n",
       "  4.138270378112793,\n",
       "  3.905869960784912,\n",
       "  3.7818708419799805,\n",
       "  3.8787012100219727,\n",
       "  3.9147231578826904,\n",
       "  4.057010650634766,\n",
       "  3.898282051086426,\n",
       "  3.7759175300598145,\n",
       "  3.870847463607788,\n",
       "  3.7331976890563965,\n",
       "  3.6142725944519043,\n",
       "  3.7044475078582764,\n",
       "  3.4609808921813965,\n",
       "  3.430290937423706,\n",
       "  3.6640000343322754,\n",
       "  3.555734157562256,\n",
       "  3.1301791667938232,\n",
       "  3.4915146827697754,\n",
       "  3.296792984008789,\n",
       "  3.1310062408447266,\n",
       "  3.6202001571655273,\n",
       "  3.428586483001709,\n",
       "  3.09598708152771,\n",
       "  3.436459541320801,\n",
       "  3.3218276500701904,\n",
       "  3.1498050689697266,\n",
       "  3.143099784851074,\n",
       "  3.1974942684173584,\n",
       "  2.973951816558838,\n",
       "  3.183593273162842,\n",
       "  3.037158489227295,\n",
       "  3.1265201568603516,\n",
       "  3.1255245208740234,\n",
       "  3.0325801372528076,\n",
       "  2.8933682441711426,\n",
       "  2.910491943359375,\n",
       "  2.8443470001220703,\n",
       "  2.8319602012634277,\n",
       "  2.8057446479797363,\n",
       "  2.656736373901367,\n",
       "  2.812559127807617,\n",
       "  2.776059150695801,\n",
       "  2.9434661865234375,\n",
       "  2.864840030670166,\n",
       "  2.8815698623657227,\n",
       "  2.842559576034546,\n",
       "  2.9074819087982178,\n",
       "  2.850094795227051,\n",
       "  2.6895556449890137,\n",
       "  2.5641393661499023,\n",
       "  2.679539680480957,\n",
       "  2.5644428730010986,\n",
       "  2.4776763916015625,\n",
       "  2.473863363265991,\n",
       "  2.5128672122955322,\n",
       "  2.4458043575286865,\n",
       "  2.516361713409424,\n",
       "  2.5704450607299805,\n",
       "  2.594001054763794,\n",
       "  2.5063631534576416,\n",
       "  2.460984706878662,\n",
       "  2.2975568771362305,\n",
       "  2.292874813079834,\n",
       "  2.3786721229553223,\n",
       "  2.318366050720215,\n",
       "  2.3558499813079834,\n",
       "  2.1555745601654053,\n",
       "  2.4918198585510254,\n",
       "  2.6235084533691406,\n",
       "  2.59338641166687,\n",
       "  2.239952802658081,\n",
       "  2.098146438598633,\n",
       "  2.3063437938690186,\n",
       "  2.2138614654541016,\n",
       "  2.083775758743286,\n",
       "  2.0361664295196533,\n",
       "  2.0198843479156494,\n",
       "  2.1139750480651855,\n",
       "  2.3083479404449463,\n",
       "  2.121974468231201,\n",
       "  1.8323726654052734,\n",
       "  2.0502686500549316,\n",
       "  1.914024829864502,\n",
       "  1.82489013671875,\n",
       "  2.0288093090057373],\n",
       " 'val_loss': [588.7252197265625,\n",
       "  528.5538940429688,\n",
       "  395.9604187011719,\n",
       "  178.5877685546875,\n",
       "  73.39838409423828,\n",
       "  45.63380813598633,\n",
       "  34.221343994140625,\n",
       "  27.169326782226562,\n",
       "  25.191953659057617,\n",
       "  24.103757858276367,\n",
       "  23.968889236450195,\n",
       "  23.89351463317871,\n",
       "  23.428659439086914,\n",
       "  22.811006546020508,\n",
       "  22.015153884887695,\n",
       "  22.958791732788086,\n",
       "  22.801334381103516,\n",
       "  22.65178871154785,\n",
       "  22.979284286499023,\n",
       "  22.273319244384766,\n",
       "  23.13104248046875,\n",
       "  23.40752410888672,\n",
       "  23.446672439575195,\n",
       "  24.012773513793945,\n",
       "  23.179826736450195,\n",
       "  21.97415542602539,\n",
       "  23.357929229736328,\n",
       "  22.31678581237793,\n",
       "  23.814306259155273,\n",
       "  23.763877868652344,\n",
       "  23.751094818115234,\n",
       "  23.1162166595459,\n",
       "  22.385698318481445,\n",
       "  23.081390380859375,\n",
       "  21.656415939331055,\n",
       "  22.362661361694336,\n",
       "  22.17133903503418,\n",
       "  22.759737014770508,\n",
       "  22.8466796875,\n",
       "  22.194311141967773,\n",
       "  22.747478485107422,\n",
       "  20.88802719116211,\n",
       "  22.80609130859375,\n",
       "  21.567319869995117,\n",
       "  20.60955238342285,\n",
       "  22.312889099121094,\n",
       "  20.798295974731445,\n",
       "  21.324966430664062,\n",
       "  20.84088134765625,\n",
       "  21.317790985107422,\n",
       "  21.212411880493164,\n",
       "  20.95138168334961,\n",
       "  21.22866439819336,\n",
       "  21.704519271850586,\n",
       "  19.062461853027344,\n",
       "  20.75847816467285,\n",
       "  19.79883575439453,\n",
       "  20.68695068359375,\n",
       "  20.478933334350586,\n",
       "  20.227792739868164,\n",
       "  19.711139678955078,\n",
       "  20.6442813873291,\n",
       "  19.041263580322266,\n",
       "  19.15559196472168,\n",
       "  19.699148178100586,\n",
       "  19.79182243347168,\n",
       "  19.79532241821289,\n",
       "  18.72141456604004,\n",
       "  18.50531578063965,\n",
       "  18.487140655517578,\n",
       "  18.61358642578125,\n",
       "  18.24348258972168,\n",
       "  17.8394718170166,\n",
       "  18.670658111572266,\n",
       "  17.8349666595459,\n",
       "  17.779739379882812,\n",
       "  17.054519653320312,\n",
       "  17.266706466674805,\n",
       "  17.723234176635742,\n",
       "  17.091012954711914,\n",
       "  16.764907836914062,\n",
       "  17.06511116027832,\n",
       "  16.59217071533203,\n",
       "  16.662317276000977,\n",
       "  16.07668113708496,\n",
       "  16.996923446655273,\n",
       "  15.686734199523926,\n",
       "  17.2043399810791,\n",
       "  15.969025611877441,\n",
       "  15.166350364685059,\n",
       "  15.196150779724121,\n",
       "  15.883414268493652,\n",
       "  15.159096717834473,\n",
       "  15.365639686584473,\n",
       "  15.798256874084473,\n",
       "  14.565476417541504,\n",
       "  14.9113187789917,\n",
       "  14.93409252166748,\n",
       "  14.324082374572754,\n",
       "  14.398961067199707,\n",
       "  15.328292846679688,\n",
       "  14.021448135375977,\n",
       "  15.71876049041748,\n",
       "  13.371773719787598,\n",
       "  13.513091087341309,\n",
       "  14.040470123291016,\n",
       "  13.793088912963867,\n",
       "  14.29267692565918,\n",
       "  13.517034530639648,\n",
       "  13.327203750610352,\n",
       "  13.396126747131348,\n",
       "  13.136748313903809,\n",
       "  13.150989532470703,\n",
       "  14.430418014526367,\n",
       "  13.409943580627441,\n",
       "  12.45072078704834,\n",
       "  12.799869537353516,\n",
       "  12.897124290466309,\n",
       "  12.832141876220703,\n",
       "  12.52469253540039,\n",
       "  13.29688549041748,\n",
       "  12.963557243347168,\n",
       "  13.122085571289062,\n",
       "  14.8472261428833,\n",
       "  11.813414573669434,\n",
       "  12.47340202331543,\n",
       "  12.773016929626465,\n",
       "  12.494597434997559,\n",
       "  12.087390899658203,\n",
       "  13.043073654174805,\n",
       "  12.186593055725098,\n",
       "  12.36258316040039,\n",
       "  12.650039672851562,\n",
       "  11.735566139221191,\n",
       "  12.099360466003418,\n",
       "  12.548155784606934,\n",
       "  11.966466903686523,\n",
       "  13.456756591796875,\n",
       "  13.360780715942383,\n",
       "  11.496865272521973,\n",
       "  11.650096893310547,\n",
       "  11.867703437805176,\n",
       "  12.014589309692383,\n",
       "  12.335846900939941,\n",
       "  11.557866096496582,\n",
       "  12.616616249084473,\n",
       "  11.648765563964844,\n",
       "  11.714624404907227,\n",
       "  12.171952247619629,\n",
       "  12.06790828704834,\n",
       "  11.978184700012207,\n",
       "  11.899439811706543,\n",
       "  11.363179206848145,\n",
       "  12.391443252563477,\n",
       "  12.154271125793457,\n",
       "  12.068936347961426,\n",
       "  12.468300819396973,\n",
       "  11.993022918701172,\n",
       "  12.127274513244629,\n",
       "  11.822884559631348,\n",
       "  12.679707527160645,\n",
       "  12.428360939025879,\n",
       "  12.02415943145752,\n",
       "  11.389333724975586,\n",
       "  11.250329971313477,\n",
       "  11.440667152404785,\n",
       "  11.760679244995117,\n",
       "  11.621983528137207,\n",
       "  12.109349250793457,\n",
       "  11.596156120300293,\n",
       "  11.769516944885254,\n",
       "  11.311899185180664,\n",
       "  11.920150756835938,\n",
       "  12.075546264648438,\n",
       "  11.868782043457031,\n",
       "  11.528857231140137,\n",
       "  11.775988578796387,\n",
       "  12.889816284179688,\n",
       "  11.659599304199219,\n",
       "  11.745719909667969,\n",
       "  12.162674903869629,\n",
       "  12.92994213104248,\n",
       "  12.162103652954102,\n",
       "  12.258955955505371,\n",
       "  12.38171100616455,\n",
       "  12.294961929321289,\n",
       "  11.85657024383545,\n",
       "  11.32873821258545,\n",
       "  12.004386901855469,\n",
       "  12.040810585021973,\n",
       "  11.768385887145996,\n",
       "  11.8043794631958,\n",
       "  12.393095970153809,\n",
       "  13.248205184936523,\n",
       "  12.545661926269531,\n",
       "  12.705012321472168,\n",
       "  12.161911010742188,\n",
       "  12.040045738220215,\n",
       "  12.715409278869629,\n",
       "  12.70808219909668]}"
      ]
     },
     "execution_count": 146,
     "metadata": {},
     "output_type": "execute_result"
    }
   ],
   "source": [
    "hist.history"
   ]
  },
  {
   "cell_type": "markdown",
   "metadata": {
    "slideshow": {
     "slide_type": "slide"
    }
   },
   "source": [
    "##### 결과 시각화"
   ]
  },
  {
   "cell_type": "code",
   "execution_count": 147,
   "metadata": {
    "ExecuteTime": {
     "end_time": "2022-07-14T00:19:54.024631Z",
     "start_time": "2022-07-14T00:19:54.022672Z"
    },
    "slideshow": {
     "slide_type": "fragment"
    }
   },
   "outputs": [],
   "source": [
    "import matplotlib.pyplot as plt"
   ]
  },
  {
   "cell_type": "code",
   "execution_count": 148,
   "metadata": {
    "ExecuteTime": {
     "end_time": "2022-07-14T00:19:54.103605Z",
     "start_time": "2022-07-14T00:19:54.037658Z"
    },
    "slideshow": {
     "slide_type": "fragment"
    }
   },
   "outputs": [
    {
     "data": {
      "image/png": "[encoded data removed]",
      "text/plain": [
       "<Figure size 576x432 with 1 Axes>"
      ]
     },
     "metadata": {
      "needs_background": "light"
     },
     "output_type": "display_data"
    }
   ],
   "source": [
    "plt.figure(figsize=(8,6))\n",
    "plt.plot(range(1,N_EPOCHS+1), hist.history['loss'], label='Train Loss')\n",
    "plt.plot(range(1,N_EPOCHS+1), hist.history['val_loss'], label='Validation Loss')\n",
    "plt.xlabel(\"Epochs\")\n",
    "plt.ylabel('Loss')\n",
    "plt.legend()\n",
    "plt.show()"
   ]
  },
  {
   "cell_type": "code",
   "execution_count": 149,
   "metadata": {
    "ExecuteTime": {
     "end_time": "2022-07-14T00:19:54.187494Z",
     "start_time": "2022-07-14T00:19:54.116643Z"
    },
    "slideshow": {
     "slide_type": "fragment"
    }
   },
   "outputs": [
    {
     "data": {
      "image/png": "[encoded data removed]",
      "text/plain": [
       "<Figure size 576x432 with 1 Axes>"
      ]
     },
     "metadata": {
      "needs_background": "light"
     },
     "output_type": "display_data"
    }
   ],
   "source": [
    "plt.figure(figsize=(8,6))\n",
    "plt.plot(range(1,N_EPOCHS+1), hist.history['loss'], label='Train Loss')\n",
    "plt.plot(range(1,N_EPOCHS+1), hist.history['val_loss'], label='Validation Loss')\n",
    "plt.xlabel(\"Epochs\")\n",
    "plt.ylabel('Loss')\n",
    "\n",
    "plt.ylim(0,50)\n",
    "\n",
    "plt.legend()\n",
    "plt.show()"
   ]
  },
  {
   "cell_type": "markdown",
   "metadata": {
    "slideshow": {
     "slide_type": "slide"
    }
   },
   "source": [
    "##### 최종 테스트"
   ]
  },
  {
   "cell_type": "code",
   "execution_count": 150,
   "metadata": {
    "ExecuteTime": {
     "end_time": "2022-07-14T00:19:54.228037Z",
     "start_time": "2022-07-14T00:19:54.202502Z"
    },
    "slideshow": {
     "slide_type": "fragment"
    }
   },
   "outputs": [
    {
     "name": "stdout",
     "output_type": "stream",
     "text": [
      "4/4 [==============================] - 0s 4ms/step - loss: 12.7081\n",
      "12.70808219909668 3.5648397157651672\n"
     ]
    }
   ],
   "source": [
    "loss = model.evaluate(test_dataset)\n",
    "print(loss, np.sqrt(loss))"
   ]
  },
  {
   "cell_type": "markdown",
   "metadata": {
    "slideshow": {
     "slide_type": "slide"
    }
   },
   "source": [
    "##### 모델 네트워크 저장"
   ]
  },
  {
   "cell_type": "code",
   "execution_count": 50,
   "metadata": {
    "ExecuteTime": {
     "end_time": "2022-07-13T08:16:51.004264Z",
     "start_time": "2022-07-13T08:16:50.382351Z"
    },
    "slideshow": {
     "slide_type": "fragment"
    }
   },
   "outputs": [
    {
     "name": "stdout",
     "output_type": "stream",
     "text": [
      "INFO:tensorflow:Assets written to: models/boston_hosing_model/assets\n"
     ]
    }
   ],
   "source": [
    "model.save('models/boston_hosing_model')"
   ]
  },
  {
   "cell_type": "code",
   "execution_count": 154,
   "metadata": {
    "ExecuteTime": {
     "end_time": "2022-07-14T00:31:32.392425Z",
     "start_time": "2022-07-14T00:31:31.961081Z"
    }
   },
   "outputs": [],
   "source": [
    "# 저장된 모델을 읽어오기\n",
    "housing_model = keras.models.load_model('models/boston_hosing_model')"
   ]
  },
  {
   "cell_type": "code",
   "execution_count": 156,
   "metadata": {
    "ExecuteTime": {
     "end_time": "2022-07-14T00:32:07.218659Z",
     "start_time": "2022-07-14T00:32:07.202239Z"
    }
   },
   "outputs": [
    {
     "name": "stdout",
     "output_type": "stream",
     "text": [
      "Model: \"sequential\"\n",
      "_________________________________________________________________\n",
      " Layer (type)                Output Shape              Param #   \n",
      "=================================================================\n",
      " dense (Dense)               (None, 128)               1792      \n",
      "                                                                 \n",
      " dense_1 (Dense)             (None, 64)                8256      \n",
      "                                                                 \n",
      " dense_2 (Dense)             (None, 32)                2080      \n",
      "                                                                 \n",
      " dense_3 (Dense)             (None, 16)                528       \n",
      "                                                                 \n",
      " dense_4 (Dense)             (None, 1)                 17        \n",
      "                                                                 \n",
      "=================================================================\n",
      "Total params: 12,673\n",
      "Trainable params: 12,673\n",
      "Non-trainable params: 0\n",
      "_________________________________________________________________\n"
     ]
    }
   ],
   "source": [
    "housing_model.summary()"
   ]
  },
  {
   "cell_type": "markdown",
   "metadata": {
    "slideshow": {
     "slide_type": "slide"
    }
   },
   "source": [
    "##### 새로운 데이터 추론"
   ]
  },
  {
   "cell_type": "code",
   "execution_count": 159,
   "metadata": {
    "ExecuteTime": {
     "end_time": "2022-07-14T00:32:34.764332Z",
     "start_time": "2022-07-14T00:32:34.674394Z"
    },
    "slideshow": {
     "slide_type": "fragment"
    }
   },
   "outputs": [
    {
     "name": "stdout",
     "output_type": "stream",
     "text": [
      "WARNING:tensorflow:5 out of the last 6 calls to <function Model.make_predict_function.<locals>.predict_function at 0x17f548670> triggered tf.function retracing. Tracing is expensive and the excessive number of tracings could be due to (1) creating @tf.function repeatedly in a loop, (2) passing tensors with different shapes, (3) passing Python objects instead of tensors. For (1), please define your @tf.function outside of the loop. For (2), @tf.function has reduce_retracing=True option that can avoid unnecessary retracing. For (3), please refer to https://www.tensorflow.org/guide/function#controlling_retracing and https://www.tensorflow.org/api_docs/python/tf/function for  more details.\n",
      "1/1 [==============================] - 0s 47ms/step\n"
     ]
    },
    {
     "name": "stderr",
     "output_type": "stream",
     "text": [
      "2022-07-14 09:32:34.741734: I tensorflow/core/grappler/optimizers/custom_graph_optimizer_registry.cc:113] Plugin optimizer for device_type GPU is enabled.\n"
     ]
    }
   ],
   "source": [
    "new_data = X_test[:5]\n",
    "pred = housing_model.predict(new_data)"
   ]
  },
  {
   "cell_type": "code",
   "execution_count": 162,
   "metadata": {
    "ExecuteTime": {
     "end_time": "2022-07-14T00:32:49.218216Z",
     "start_time": "2022-07-14T00:32:49.211727Z"
    },
    "slideshow": {
     "slide_type": "fragment"
    }
   },
   "outputs": [
    {
     "data": {
      "text/plain": [
       "array([[ 8.610636],\n",
       "       [18.28728 ],\n",
       "       [20.553057],\n",
       "       [32.228184],\n",
       "       [24.488523]], dtype=float32)"
      ]
     },
     "execution_count": 162,
     "metadata": {},
     "output_type": "execute_result"
    }
   ],
   "source": [
    " pred"
   ]
  },
  {
   "cell_type": "code",
   "execution_count": 163,
   "metadata": {
    "ExecuteTime": {
     "end_time": "2022-07-14T00:32:50.506847Z",
     "start_time": "2022-07-14T00:32:50.500693Z"
    },
    "slideshow": {
     "slide_type": "fragment"
    }
   },
   "outputs": [
    {
     "data": {
      "text/plain": [
       "array([ 7.2, 18.8, 19. , 27. , 22.2])"
      ]
     },
     "execution_count": 163,
     "metadata": {},
     "output_type": "execute_result"
    }
   ],
   "source": [
    "test_y[:5]"
   ]
  },
  {
   "cell_type": "markdown",
   "metadata": {
    "slideshow": {
     "slide_type": "slide"
    }
   },
   "source": [
    "# 분류 (Classification)\n",
    "\n",
    "## Fashion MNIST Dataset - 다중분류(Multi-Class Classification) 문제"
   ]
  },
  {
   "cell_type": "markdown",
   "metadata": {
    "slideshow": {
     "slide_type": "fragment"
    }
   },
   "source": [
    "10개의 범주(category)와 70,000개의 흑백 이미지로 구성된 [패션 MNIST](https://github.com/zalandoresearch/fashion-mnist) 데이터셋. \n",
    "이미지는 해상도(28x28 픽셀)가 낮고 다음처럼 개별 의류 품목을 나타낸다:\n",
    "\n",
    "<table>\n",
    "  <tr><td>\n",
    "    <img src=\"https://tensorflow.org/images/fashion-mnist-sprite.png\"\n",
    "         alt=\"Fashion MNIST sprite\"  width=\"600\">\n",
    "  </td></tr>\n",
    "  <tr><td align=\"center\">\n",
    "    <b>그림</b> <a href=\"https://github.com/zalandoresearch/fashion-mnist\">패션-MNIST 샘플</a> (Zalando, MIT License).<br/>&nbsp;\n",
    "  </td></tr>\n",
    "</table>"
   ]
  },
  {
   "cell_type": "markdown",
   "metadata": {
    "slideshow": {
     "slide_type": "fragment"
    }
   },
   "source": [
    "이미지는 28x28 크기이며 Gray scale이다. *레이블*(label)은 0에서 9까지의 정수 배열이다. 아래 표는 이미지에 있는 의류의 **클래스**(class)들이다.\n",
    "\n",
    "<table>\n",
    "  <tr>\n",
    "    <th>레이블</th>\n",
    "    <th>클래스</th>\n",
    "  </tr>\n",
    "  <tr>\n",
    "    <td>0</td>\n",
    "    <td>T-shirt/top</td>\n",
    "  </tr>\n",
    "  <tr>\n",
    "    <td>1</td>\n",
    "    <td>Trousers</td>\n",
    "  </tr>\n",
    "    <tr>\n",
    "    <td>2</td>\n",
    "    <td>Pullover</td>\n",
    "  </tr>\n",
    "    <tr>\n",
    "    <td>3</td>\n",
    "    <td>Dress</td>\n",
    "  </tr>\n",
    "    <tr>\n",
    "    <td>4</td>\n",
    "    <td>Coat</td>\n",
    "  </tr>\n",
    "    <tr>\n",
    "    <td>5</td>\n",
    "    <td>Sandal</td>\n",
    "  </tr>\n",
    "    <tr>\n",
    "    <td>6</td>\n",
    "    <td>Shirt</td>\n",
    "  </tr>\n",
    "    <tr>\n",
    "    <td>7</td>\n",
    "    <td>Sneaker</td>\n",
    "  </tr>\n",
    "    <tr>\n",
    "    <td>8</td>\n",
    "    <td>Bag</td>\n",
    "  </tr>\n",
    "    <tr>\n",
    "    <td>9</td>\n",
    "    <td>Ankle boot</td>\n",
    "  </tr>\n",
    "</table>\n",
    "\n",
    "각 이미지는 하나의 레이블에 매핑되어 있다. 데이터셋에 클래스 이름이 들어있지 않기 때문에 나중에 이미지를 출력할 때 사용하기 위해 별도의 변수를 만들어 저장한다."
   ]
  },
  {
   "cell_type": "code",
   "execution_count": 164,
   "metadata": {
    "ExecuteTime": {
     "end_time": "2022-07-14T00:37:21.011663Z",
     "start_time": "2022-07-14T00:37:20.971035Z"
    },
    "slideshow": {
     "slide_type": "slide"
    }
   },
   "outputs": [],
   "source": [
    "import numpy as np\n",
    "import tensorflow as tf\n",
    "from tensorflow import keras\n",
    "from tensorflow.keras import layers\n",
    "import matplotlib.pyplot as plt\n",
    "\n",
    "np.random.seed(0)\n",
    "tf.random.set_seed(0)"
   ]
  },
  {
   "cell_type": "code",
   "execution_count": 165,
   "metadata": {
    "ExecuteTime": {
     "end_time": "2022-07-14T00:37:22.562703Z",
     "start_time": "2022-07-14T00:37:22.559247Z"
    },
    "slideshow": {
     "slide_type": "fragment"
    }
   },
   "outputs": [],
   "source": [
    "class_names = np.array(['T-shirt/top', 'Trousers', 'Pullover', 'Dress', 'Coat', 'Sandal', 'Shirt', 'Sneaker', 'Bag', 'Ankle boot'])"
   ]
  },
  {
   "cell_type": "code",
   "execution_count": 168,
   "metadata": {
    "ExecuteTime": {
     "end_time": "2022-07-14T00:37:53.980162Z",
     "start_time": "2022-07-14T00:37:53.974873Z"
    }
   },
   "outputs": [
    {
     "data": {
      "text/plain": [
       "'T-shirt/top'"
      ]
     },
     "execution_count": 168,
     "metadata": {},
     "output_type": "execute_result"
    }
   ],
   "source": [
    "p=0\n",
    "class_names[p]"
   ]
  },
  {
   "cell_type": "markdown",
   "metadata": {
    "slideshow": {
     "slide_type": "slide"
    }
   },
   "source": [
    "##### Data 로딩"
   ]
  },
  {
   "cell_type": "code",
   "execution_count": 170,
   "metadata": {
    "ExecuteTime": {
     "end_time": "2022-07-14T00:38:33.232904Z",
     "start_time": "2022-07-14T00:38:32.982622Z"
    },
    "slideshow": {
     "slide_type": "fragment"
    }
   },
   "outputs": [],
   "source": [
    "(train_image, train_label), (test_image, test_label) = keras.datasets.fashion_mnist.load_data()"
   ]
  },
  {
   "cell_type": "markdown",
   "metadata": {
    "slideshow": {
     "slide_type": "fragment"
    }
   },
   "source": [
    "##### validata set  생성"
   ]
  },
  {
   "cell_type": "code",
   "execution_count": 171,
   "metadata": {
    "ExecuteTime": {
     "end_time": "2022-07-14T00:41:08.510909Z",
     "start_time": "2022-07-14T00:41:08.460821Z"
    },
    "slideshow": {
     "slide_type": "fragment"
    }
   },
   "outputs": [],
   "source": [
    "from sklearn.model_selection import train_test_split\n",
    "train_image, val_image, train_label, val_label = train_test_split(train_image, train_label, test_size=0.2, stratify=train_label, random_state=0)"
   ]
  },
  {
   "cell_type": "markdown",
   "metadata": {
    "slideshow": {
     "slide_type": "slide"
    }
   },
   "source": [
    "##### 이미지 확인"
   ]
  },
  {
   "cell_type": "code",
   "execution_count": 172,
   "metadata": {
    "ExecuteTime": {
     "end_time": "2022-07-14T00:42:00.721658Z",
     "start_time": "2022-07-14T00:42:00.348185Z"
    },
    "scrolled": false,
    "slideshow": {
     "slide_type": "fragment"
    }
   },
   "outputs": [
    {
     "data": {
      "image/png": "[encoded data removed]",
      "text/plain": [
       "<Figure size 720x720 with 25 Axes>"
      ]
     },
     "metadata": {},
     "output_type": "display_data"
    }
   ],
   "source": [
    "# train image에서 25새\n",
    "plt.figure(figsize=(10,10))\n",
    "for i in range(25):\n",
    "    plt.subplot(5,5,i+1)\n",
    "    plt.xticks([])\n",
    "    plt.yticks([])\n",
    "    plt.imshow(train_image[i], cmap=\"Greys\")\n",
    "    plt.xlabel(class_names[train_label[i]])\n",
    "\n",
    "plt.tight_layout()\n",
    "plt.show()"
   ]
  },
  {
   "cell_type": "markdown",
   "metadata": {
    "slideshow": {
     "slide_type": "slide"
    }
   },
   "source": [
    "#### 하이퍼파라미터, 변수 설정"
   ]
  },
  {
   "cell_type": "code",
   "execution_count": 173,
   "metadata": {
    "ExecuteTime": {
     "end_time": "2022-07-14T01:06:18.198988Z",
     "start_time": "2022-07-14T01:06:18.193628Z"
    },
    "slideshow": {
     "slide_type": "fragment"
    }
   },
   "outputs": [],
   "source": [
    "LEARNING_RATE = 0.001\n",
    "N_EPOCHS = 20\n",
    "N_BATCHS = 100\n",
    "\n",
    "N_TRAIN = train_image.shape[0]\n",
    "N_VAL = val_image.shape[0]\n",
    "N_TEST = test_image.shape[0]"
   ]
  },
  {
   "cell_type": "markdown",
   "metadata": {
    "slideshow": {
     "slide_type": "fragment"
    }
   },
   "source": [
    "#### X, y  전처리\n",
    "- y값 처리\n",
    "    - 다중 분류에서 label encoding 형식의 label을 one hot encoding 처리\n",
    "        - 모델이 각 클래스별 확률을 출력하도록 구현 -> loss계산을 위해 y(ground truth-정답)을 one hot encoding 처리"
   ]
  },
  {
   "cell_type": "code",
   "execution_count": 174,
   "metadata": {
    "ExecuteTime": {
     "end_time": "2022-07-14T01:08:06.237763Z",
     "start_time": "2022-07-14T01:08:06.231018Z"
    },
    "slideshow": {
     "slide_type": "fragment"
    }
   },
   "outputs": [
    {
     "name": "stdout",
     "output_type": "stream",
     "text": [
      "(48000, 10) (12000, 10) (10000, 10)\n"
     ]
    }
   ],
   "source": [
    "y_train = keras.utils.to_categorical(train_label)\n",
    "y_val = keras.utils.to_categorical(val_label)\n",
    "y_test = keras.utils.to_categorical(test_label)\n",
    "print(y_train.shape, y_val.shape, y_test.shape)"
   ]
  },
  {
   "cell_type": "markdown",
   "metadata": {
    "slideshow": {
     "slide_type": "fragment"
    }
   },
   "source": [
    "- x값(이미지) 처리\n",
    "    - dtype을 uint8에서 float32로 변환한다.\n",
    "    - 0 ~ 1 정규화. X/255.0으로 나눈다.\n",
    "    "
   ]
  },
  {
   "cell_type": "code",
   "execution_count": 175,
   "metadata": {
    "ExecuteTime": {
     "end_time": "2022-07-14T01:14:04.319691Z",
     "start_time": "2022-07-14T01:14:04.266985Z"
    },
    "slideshow": {
     "slide_type": "fragment"
    }
   },
   "outputs": [],
   "source": [
    "X_train = train_image.astype(np.float32)\n",
    "X_val = val_image.astype(np.float32)\n",
    "X_test = test_image.astype(np.float32)\n",
    "\n",
    "# 255로 나누는 작업은 dataset생성시 map을 이용해서 처리\n",
    "#    - 실제 할때는 직접 255로 나누도록 한다. map을 사용하는 것은 비효율적이다"
   ]
  },
  {
   "cell_type": "markdown",
   "metadata": {
    "slideshow": {
     "slide_type": "slide"
    }
   },
   "source": [
    "##### Dataset 생성"
   ]
  },
  {
   "cell_type": "code",
   "execution_count": 176,
   "metadata": {
    "ExecuteTime": {
     "end_time": "2022-07-14T01:42:07.048362Z",
     "start_time": "2022-07-14T01:42:06.942689Z"
    },
    "slideshow": {
     "slide_type": "fragment"
    }
   },
   "outputs": [],
   "source": [
    "train_dataset = tf.data.Dataset.from_tensor_slices((X_train, y_train))\\\n",
    "                               .map(lambda x, y : (x/255, y))\\\n",
    "                               .shuffle(N_TRAIN)\\\n",
    "                               .batch(N_BATCHS, drop_remainder=True)\n",
    "\n",
    "val_dataset = tf.data.Dataset.from_tensor_slices((X_val, y_val)).map(lambda x, y:(x/255, y)).batch(N_BATCHS)\n",
    "test_dataset = tf.data.Dataset.from_tensor_slices((X_test, y_test)).map(lambda x, y:(x/255, y)).batch(N_BATCHS)"
   ]
  },
  {
   "cell_type": "code",
   "execution_count": 177,
   "metadata": {
    "ExecuteTime": {
     "end_time": "2022-07-14T01:42:07.730879Z",
     "start_time": "2022-07-14T01:42:07.725844Z"
    },
    "slideshow": {
     "slide_type": "fragment"
    }
   },
   "outputs": [
    {
     "data": {
      "text/plain": [
       "(48000, 28, 28)"
      ]
     },
     "execution_count": 177,
     "metadata": {},
     "output_type": "execute_result"
    }
   ],
   "source": [
    "X_train.shape"
   ]
  },
  {
   "cell_type": "markdown",
   "metadata": {
    "slideshow": {
     "slide_type": "slide"
    }
   },
   "source": [
    "##### 모델 생성 및 컴파일"
   ]
  },
  {
   "cell_type": "code",
   "execution_count": 178,
   "metadata": {
    "ExecuteTime": {
     "end_time": "2022-07-14T01:42:08.775460Z",
     "start_time": "2022-07-14T01:42:08.769434Z"
    },
    "slideshow": {
     "slide_type": "fragment"
    }
   },
   "outputs": [],
   "source": [
    "def create_fashionmnist_model():\n",
    "    model = keras.Sequential()\n",
    "    # Hidden Layer\n",
    "    # 1. Flatten + input_shape을 지정해서 InputLayer를 추가\n",
    "    model.add(layers.Flatten(input_shape=(28,28)))   # 입력데이터의 shape이 다차원 배열형태일때 1차원 배열로 변환\n",
    "    model.add(layers.Dense(units=256, activation='relu'))\n",
    "    model.add(layers.Dense(units=128, activation='relu'))\n",
    "    model.add(layers.Dense(units=64, activation='relu'))\n",
    "    \n",
    "    model.add(layers.Dense(units=10, activation='softmax'))\n",
    "    \n",
    "    return model"
   ]
  },
  {
   "cell_type": "code",
   "execution_count": 179,
   "metadata": {
    "ExecuteTime": {
     "end_time": "2022-07-14T01:42:10.214523Z",
     "start_time": "2022-07-14T01:42:10.143504Z"
    },
    "slideshow": {
     "slide_type": "fragment"
    }
   },
   "outputs": [],
   "source": [
    "model = create_fashionmnist_model()\n",
    "model.compile(optimizer=keras.optimizers.Adam(learning_rate=LEARNING_RATE), \n",
    "              loss='categorical_crossentropy',\n",
    "              metrics=['accuracy'])"
   ]
  },
  {
   "cell_type": "code",
   "execution_count": 180,
   "metadata": {
    "ExecuteTime": {
     "end_time": "2022-07-14T01:42:11.315798Z",
     "start_time": "2022-07-14T01:42:11.302578Z"
    },
    "slideshow": {
     "slide_type": "fragment"
    }
   },
   "outputs": [
    {
     "name": "stdout",
     "output_type": "stream",
     "text": [
      "Model: \"sequential_5\"\n",
      "_________________________________________________________________\n",
      " Layer (type)                Output Shape              Param #   \n",
      "=================================================================\n",
      " flatten_1 (Flatten)         (None, 784)               0         \n",
      "                                                                 \n",
      " dense_20 (Dense)            (None, 256)               200960    \n",
      "                                                                 \n",
      " dense_21 (Dense)            (None, 128)               32896     \n",
      "                                                                 \n",
      " dense_22 (Dense)            (None, 64)                8256      \n",
      "                                                                 \n",
      " dense_23 (Dense)            (None, 10)                650       \n",
      "                                                                 \n",
      "=================================================================\n",
      "Total params: 242,762\n",
      "Trainable params: 242,762\n",
      "Non-trainable params: 0\n",
      "_________________________________________________________________\n"
     ]
    }
   ],
   "source": [
    "model.summary()"
   ]
  },
  {
   "cell_type": "code",
   "execution_count": 181,
   "metadata": {
    "ExecuteTime": {
     "end_time": "2022-07-14T01:42:13.663944Z",
     "start_time": "2022-07-14T01:42:13.367408Z"
    },
    "slideshow": {
     "slide_type": "fragment"
    }
   },
   "outputs": [
    {
     "data": {
      "image/png": "[encoded data removed]",
      "text/plain": [
       "<IPython.core.display.Image object>"
      ]
     },
     "execution_count": 181,
     "metadata": {},
     "output_type": "execute_result"
    }
   ],
   "source": [
    "keras.utils.plot_model(model, show_shapes=True, to_file='fashion_mnist_model.png')"
   ]
  },
  {
   "cell_type": "markdown",
   "metadata": {
    "slideshow": {
     "slide_type": "slide"
    }
   },
   "source": [
    "##### Train(학습)"
   ]
  },
  {
   "cell_type": "code",
   "execution_count": 182,
   "metadata": {
    "ExecuteTime": {
     "end_time": "2022-07-14T01:43:37.248279Z",
     "start_time": "2022-07-14T01:42:15.115920Z"
    },
    "scrolled": false,
    "slideshow": {
     "slide_type": "fragment"
    }
   },
   "outputs": [
    {
     "name": "stdout",
     "output_type": "stream",
     "text": [
      "Epoch 1/20\n"
     ]
    },
    {
     "name": "stderr",
     "output_type": "stream",
     "text": [
      "2022-07-14 10:42:15.355384: I tensorflow/core/grappler/optimizers/custom_graph_optimizer_registry.cc:113] Plugin optimizer for device_type GPU is enabled.\n"
     ]
    },
    {
     "name": "stdout",
     "output_type": "stream",
     "text": [
      "480/480 [==============================] - ETA: 0s - loss: 0.5456 - accuracy: 0.8099"
     ]
    },
    {
     "name": "stderr",
     "output_type": "stream",
     "text": [
      "2022-07-14 10:42:19.269974: I tensorflow/core/grappler/optimizers/custom_graph_optimizer_registry.cc:113] Plugin optimizer for device_type GPU is enabled.\n"
     ]
    },
    {
     "name": "stdout",
     "output_type": "stream",
     "text": [
      "480/480 [==============================] - 5s 8ms/step - loss: 0.5456 - accuracy: 0.8099 - val_loss: 0.4203 - val_accuracy: 0.8473\n",
      "Epoch 2/20\n",
      "480/480 [==============================] - 4s 9ms/step - loss: 0.3826 - accuracy: 0.8620 - val_loss: 0.4090 - val_accuracy: 0.8503\n",
      "Epoch 3/20\n",
      "480/480 [==============================] - 4s 8ms/step - loss: 0.3398 - accuracy: 0.8756 - val_loss: 0.3478 - val_accuracy: 0.8706\n",
      "Epoch 4/20\n",
      "480/480 [==============================] - 4s 8ms/step - loss: 0.3152 - accuracy: 0.8832 - val_loss: 0.3256 - val_accuracy: 0.8809\n",
      "Epoch 5/20\n",
      "480/480 [==============================] - 4s 8ms/step - loss: 0.2952 - accuracy: 0.8898 - val_loss: 0.3222 - val_accuracy: 0.8834\n",
      "Epoch 6/20\n",
      "480/480 [==============================] - 4s 8ms/step - loss: 0.2768 - accuracy: 0.8970 - val_loss: 0.3190 - val_accuracy: 0.8842\n",
      "Epoch 7/20\n",
      "480/480 [==============================] - 4s 8ms/step - loss: 0.2614 - accuracy: 0.9030 - val_loss: 0.3095 - val_accuracy: 0.8874\n",
      "Epoch 8/20\n",
      "480/480 [==============================] - 4s 8ms/step - loss: 0.2574 - accuracy: 0.9021 - val_loss: 0.3080 - val_accuracy: 0.8871\n",
      "Epoch 9/20\n",
      "480/480 [==============================] - 4s 8ms/step - loss: 0.2437 - accuracy: 0.9088 - val_loss: 0.2969 - val_accuracy: 0.8918\n",
      "Epoch 10/20\n",
      "480/480 [==============================] - 4s 8ms/step - loss: 0.2340 - accuracy: 0.9109 - val_loss: 0.2977 - val_accuracy: 0.8927\n",
      "Epoch 11/20\n",
      "480/480 [==============================] - 4s 8ms/step - loss: 0.2255 - accuracy: 0.9143 - val_loss: 0.3036 - val_accuracy: 0.8917\n",
      "Epoch 12/20\n",
      "480/480 [==============================] - 4s 8ms/step - loss: 0.2199 - accuracy: 0.9165 - val_loss: 0.3120 - val_accuracy: 0.8920\n",
      "Epoch 13/20\n",
      "480/480 [==============================] - 4s 8ms/step - loss: 0.2104 - accuracy: 0.9197 - val_loss: 0.3014 - val_accuracy: 0.8954\n",
      "Epoch 14/20\n",
      "480/480 [==============================] - 4s 8ms/step - loss: 0.2031 - accuracy: 0.9239 - val_loss: 0.3033 - val_accuracy: 0.8958\n",
      "Epoch 15/20\n",
      "480/480 [==============================] - 4s 8ms/step - loss: 0.1941 - accuracy: 0.9255 - val_loss: 0.3324 - val_accuracy: 0.8907\n",
      "Epoch 16/20\n",
      "480/480 [==============================] - 4s 8ms/step - loss: 0.1889 - accuracy: 0.9287 - val_loss: 0.3332 - val_accuracy: 0.8881\n",
      "Epoch 17/20\n",
      "480/480 [==============================] - 4s 8ms/step - loss: 0.1835 - accuracy: 0.9298 - val_loss: 0.3281 - val_accuracy: 0.8872\n",
      "Epoch 18/20\n",
      "480/480 [==============================] - 4s 8ms/step - loss: 0.1784 - accuracy: 0.9322 - val_loss: 0.3315 - val_accuracy: 0.8930\n",
      "Epoch 19/20\n",
      "480/480 [==============================] - 4s 8ms/step - loss: 0.1742 - accuracy: 0.9338 - val_loss: 0.3162 - val_accuracy: 0.8982\n",
      "Epoch 20/20\n",
      "480/480 [==============================] - 4s 8ms/step - loss: 0.1637 - accuracy: 0.9379 - val_loss: 0.3348 - val_accuracy: 0.8921\n"
     ]
    }
   ],
   "source": [
    "hist = model.fit(train_dataset,\n",
    "                 epochs=N_EPOCHS,\n",
    "                 validation_data=val_dataset)"
   ]
  },
  {
   "cell_type": "markdown",
   "metadata": {
    "slideshow": {
     "slide_type": "fragment"
    }
   },
   "source": [
    "##### 결과 시각화"
   ]
  },
  {
   "cell_type": "code",
   "execution_count": 183,
   "metadata": {
    "ExecuteTime": {
     "end_time": "2022-07-14T01:44:56.980146Z",
     "start_time": "2022-07-14T01:44:56.877244Z"
    },
    "slideshow": {
     "slide_type": "fragment"
    }
   },
   "outputs": [
    {
     "data": {
      "image/png": "[encoded data removed]",
      "text/plain": [
       "<Figure size 504x432 with 1 Axes>"
      ]
     },
     "metadata": {
      "needs_background": "light"
     },
     "output_type": "display_data"
    }
   ],
   "source": [
    "plt.figure(figsize=(7,6))\n",
    "plt.plot(range(1, N_EPOCHS+1), hist.history['loss'], label='train loss')\n",
    "plt.plot(range(1, N_EPOCHS+1), hist.history['val_loss'], label='validation loss')\n",
    "plt.title(\"LOSS\", fontsize=20)\n",
    "plt.xlabel(\"Epochs\")\n",
    "plt.ylabel(\"Loss\")\n",
    "plt.legend()\n",
    "plt.show()"
   ]
  },
  {
   "cell_type": "code",
   "execution_count": 184,
   "metadata": {
    "ExecuteTime": {
     "end_time": "2022-07-14T01:51:04.489520Z",
     "start_time": "2022-07-14T01:51:04.389653Z"
    },
    "scrolled": true,
    "slideshow": {
     "slide_type": "fragment"
    }
   },
   "outputs": [
    {
     "data": {
      "image/png": "[encoded data removed]",
      "text/plain": [
       "<Figure size 504x432 with 1 Axes>"
      ]
     },
     "metadata": {
      "needs_background": "light"
     },
     "output_type": "display_data"
    }
   ],
   "source": [
    "plt.figure(figsize=(7,6))\n",
    "plt.plot(range(1, N_EPOCHS+1), hist.history['accuracy'], label='train accuracy')\n",
    "plt.plot(range(1, N_EPOCHS+1), hist.history['val_accuracy'], label='validation accuracy')\n",
    "plt.title(\"Accuracy\", fontsize=20)\n",
    "plt.xlabel(\"Epochs\")\n",
    "plt.ylabel(\"Accuracy\")\n",
    "plt.legend()\n",
    "plt.show()"
   ]
  },
  {
   "cell_type": "markdown",
   "metadata": {
    "slideshow": {
     "slide_type": "slide"
    }
   },
   "source": [
    "#### 최종평가"
   ]
  },
  {
   "cell_type": "code",
   "execution_count": 185,
   "metadata": {
    "ExecuteTime": {
     "end_time": "2022-07-14T01:51:07.743676Z",
     "start_time": "2022-07-14T01:51:07.074359Z"
    },
    "scrolled": true,
    "slideshow": {
     "slide_type": "fragment"
    }
   },
   "outputs": [
    {
     "name": "stdout",
     "output_type": "stream",
     "text": [
      "100/100 [==============================] - 1s 6ms/step - loss: 0.3824 - accuracy: 0.8838\n"
     ]
    }
   ],
   "source": [
    "loss, accuracy = model.evaluate(test_dataset)"
   ]
  },
  {
   "cell_type": "code",
   "execution_count": 186,
   "metadata": {
    "ExecuteTime": {
     "end_time": "2022-07-14T01:51:08.746341Z",
     "start_time": "2022-07-14T01:51:08.741399Z"
    },
    "slideshow": {
     "slide_type": "fragment"
    }
   },
   "outputs": [
    {
     "name": "stdout",
     "output_type": "stream",
     "text": [
      "0.3823786675930023 0.8838000297546387\n"
     ]
    }
   ],
   "source": [
    "print(loss, accuracy)"
   ]
  },
  {
   "cell_type": "markdown",
   "metadata": {},
   "source": [
    "####  모델저장"
   ]
  },
  {
   "cell_type": "code",
   "execution_count": 187,
   "metadata": {
    "ExecuteTime": {
     "end_time": "2022-07-14T01:51:11.325919Z",
     "start_time": "2022-07-14T01:51:10.696634Z"
    }
   },
   "outputs": [
    {
     "name": "stdout",
     "output_type": "stream",
     "text": [
      "INFO:tensorflow:Assets written to: models/fashion_mnist_model/assets\n"
     ]
    }
   ],
   "source": [
    "model.save('models/fashion_mnist_model')"
   ]
  },
  {
   "cell_type": "markdown",
   "metadata": {
    "slideshow": {
     "slide_type": "slide"
    }
   },
   "source": [
    "#### 새로운 데이터 추론"
   ]
  },
  {
   "cell_type": "code",
   "execution_count": 188,
   "metadata": {
    "ExecuteTime": {
     "end_time": "2022-07-14T01:51:13.025909Z",
     "start_time": "2022-07-14T01:51:13.022831Z"
    },
    "slideshow": {
     "slide_type": "fragment"
    }
   },
   "outputs": [],
   "source": [
    "new_input = X_test[:5]\n",
    "new_input = new_input/255.0"
   ]
  },
  {
   "cell_type": "code",
   "execution_count": 189,
   "metadata": {
    "ExecuteTime": {
     "end_time": "2022-07-14T01:51:17.771655Z",
     "start_time": "2022-07-14T01:51:17.679433Z"
    },
    "slideshow": {
     "slide_type": "fragment"
    }
   },
   "outputs": [
    {
     "name": "stdout",
     "output_type": "stream",
     "text": [
      "WARNING:tensorflow:6 out of the last 7 calls to <function Model.make_predict_function.<locals>.predict_function at 0x2c0ad78b0> triggered tf.function retracing. Tracing is expensive and the excessive number of tracings could be due to (1) creating @tf.function repeatedly in a loop, (2) passing tensors with different shapes, (3) passing Python objects instead of tensors. For (1), please define your @tf.function outside of the loop. For (2), @tf.function has reduce_retracing=True option that can avoid unnecessary retracing. For (3), please refer to https://www.tensorflow.org/guide/function#controlling_retracing and https://www.tensorflow.org/api_docs/python/tf/function for  more details.\n",
      "1/1 [==============================] - 0s 46ms/step\n"
     ]
    },
    {
     "name": "stderr",
     "output_type": "stream",
     "text": [
      "2022-07-14 10:51:17.750571: I tensorflow/core/grappler/optimizers/custom_graph_optimizer_registry.cc:113] Plugin optimizer for device_type GPU is enabled.\n"
     ]
    },
    {
     "data": {
      "text/plain": [
       "array([7.1982163e-06, 2.8916890e-08, 3.5536616e-09, 1.0799455e-06,\n",
       "       2.0954714e-09, 6.0636590e-05, 2.8975135e-08, 5.3342232e-03,\n",
       "       5.1219189e-08, 9.9459690e-01], dtype=float32)"
      ]
     },
     "execution_count": 189,
     "metadata": {},
     "output_type": "execute_result"
    }
   ],
   "source": [
    "pred = model.predict(new_input)\n",
    "pred[0]"
   ]
  },
  {
   "cell_type": "code",
   "execution_count": 190,
   "metadata": {
    "ExecuteTime": {
     "end_time": "2022-07-14T01:51:19.964642Z",
     "start_time": "2022-07-14T01:51:19.959102Z"
    },
    "slideshow": {
     "slide_type": "fragment"
    }
   },
   "outputs": [
    {
     "data": {
      "text/plain": [
       "array([9, 2, 1, 1, 6])"
      ]
     },
     "execution_count": 190,
     "metadata": {},
     "output_type": "execute_result"
    }
   ],
   "source": [
    "pred_class = np.argmax(pred, axis=-1)\n",
    "pred_class"
   ]
  },
  {
   "cell_type": "code",
   "execution_count": 191,
   "metadata": {
    "ExecuteTime": {
     "end_time": "2022-07-14T01:51:21.578754Z",
     "start_time": "2022-07-14T01:51:21.573664Z"
    },
    "slideshow": {
     "slide_type": "fragment"
    }
   },
   "outputs": [
    {
     "data": {
      "text/plain": [
       "array([9, 2, 1, 1, 6], dtype=uint8)"
      ]
     },
     "execution_count": 191,
     "metadata": {},
     "output_type": "execute_result"
    }
   ],
   "source": [
    "test_label[:5]"
   ]
  },
  {
   "cell_type": "code",
   "execution_count": 192,
   "metadata": {
    "ExecuteTime": {
     "end_time": "2022-07-14T01:51:22.545028Z",
     "start_time": "2022-07-14T01:51:22.538258Z"
    },
    "slideshow": {
     "slide_type": "fragment"
    }
   },
   "outputs": [
    {
     "data": {
      "text/plain": [
       "array(['Ankle boot', 'Pullover', 'Trousers', 'Trousers', 'Shirt'],\n",
       "      dtype='<U11')"
      ]
     },
     "execution_count": 192,
     "metadata": {},
     "output_type": "execute_result"
    }
   ],
   "source": [
    "pred_class_name = class_names[pred_class]\n",
    "pred_class_name"
   ]
  },
  {
   "cell_type": "code",
   "execution_count": 193,
   "metadata": {
    "ExecuteTime": {
     "end_time": "2022-07-14T01:51:23.407414Z",
     "start_time": "2022-07-14T01:51:23.401312Z"
    }
   },
   "outputs": [
    {
     "data": {
      "text/plain": [
       "array([0.9945969 , 0.99745935, 1.        , 1.        , 0.9266964 ],\n",
       "      dtype=float32)"
      ]
     },
     "execution_count": 193,
     "metadata": {},
     "output_type": "execute_result"
    }
   ],
   "source": [
    "pred_proba = np.max(pred, axis=-1)\n",
    "pred_proba"
   ]
  },
  {
   "cell_type": "code",
   "execution_count": 195,
   "metadata": {
    "ExecuteTime": {
     "end_time": "2022-07-14T01:55:46.629868Z",
     "start_time": "2022-07-14T01:55:46.624197Z"
    }
   },
   "outputs": [
    {
     "name": "stdout",
     "output_type": "stream",
     "text": [
      "0. Ankle boot: 0.9946\n",
      "1. Pullover: 0.9975\n",
      "2. Trousers: 1.0000\n",
      "3. Trousers: 1.0000\n",
      "4. Shirt: 0.9267\n"
     ]
    }
   ],
   "source": [
    "for idx, (name, proba) in enumerate(zip(pred_class_name, pred_proba)):\n",
    "    print(f\"{idx}. {name}: {proba:.4f}\")"
   ]
  },
  {
   "cell_type": "markdown",
   "metadata": {
    "slideshow": {
     "slide_type": "slide"
    }
   },
   "source": [
    "## 위스콘신 유방암 데이터셋 - 이진분류(Binary Classification) 문제\n",
    "\n",
    "- **이진 분류 문제 처리 모델의 두가지 방법**\n",
    "    1. positive(1)일 확률을 출력하도록 구현 (양성 여부 - o:양성, x:음성)\n",
    "    2. negative(0)일 확률과 positive(1)일 확률을 출력하도록 구현 => 다중분류 처리 방식으로 해결\n",
    "    \n",
    "\n",
    "- 위스콘신 대학교에서 제공한 종양의 악성/양성여부 분류를 위한 데이터셋\n",
    "- Feature\n",
    "    - 종양에 대한 다양한 측정값들\n",
    "- Target의 class\n",
    "    - 0 - malignant(악성종양)\n",
    "    - 1 - benign(양성종양)"
   ]
  },
  {
   "cell_type": "code",
   "execution_count": 196,
   "metadata": {
    "ExecuteTime": {
     "end_time": "2022-07-14T02:17:29.967427Z",
     "start_time": "2022-07-14T02:17:29.930033Z"
    },
    "slideshow": {
     "slide_type": "slide"
    }
   },
   "outputs": [],
   "source": [
    "import numpy as np\n",
    "import tensorflow as tf\n",
    "from tensorflow import keras\n",
    "from tensorflow.keras import layers\n",
    "\n",
    "from sklearn.datasets import load_breast_cancer\n",
    "from sklearn.preprocessing import StandardScaler\n",
    "from sklearn.model_selection import train_test_split\n",
    "\n",
    "np.random.seed(0)\n",
    "tf.random.set_seed(0)"
   ]
  },
  {
   "cell_type": "markdown",
   "metadata": {
    "slideshow": {
     "slide_type": "slide"
    }
   },
   "source": [
    "##### 데이터 로딩, train/validation/test set 나누기"
   ]
  },
  {
   "cell_type": "code",
   "execution_count": 197,
   "metadata": {
    "ExecuteTime": {
     "end_time": "2022-07-14T02:32:22.858784Z",
     "start_time": "2022-07-14T02:32:22.840150Z"
    },
    "slideshow": {
     "slide_type": "fragment"
    }
   },
   "outputs": [
    {
     "data": {
      "text/plain": [
       "((569, 30), (569,))"
      ]
     },
     "execution_count": 197,
     "metadata": {},
     "output_type": "execute_result"
    }
   ],
   "source": [
    "X, y = load_breast_cancer(return_X_y=True)\n",
    "X.shape, y.shape"
   ]
  },
  {
   "cell_type": "code",
   "execution_count": 198,
   "metadata": {
    "ExecuteTime": {
     "end_time": "2022-07-14T02:32:23.782773Z",
     "start_time": "2022-07-14T02:32:23.765976Z"
    },
    "slideshow": {
     "slide_type": "fragment"
    }
   },
   "outputs": [
    {
     "data": {
      "text/plain": [
       "((364, 30), (91, 30), (114, 30))"
      ]
     },
     "execution_count": 198,
     "metadata": {},
     "output_type": "execute_result"
    }
   ],
   "source": [
    "X_train, X_test, y_train, y_test = train_test_split(X, y, test_size=0.2, stratify=y, random_state=0)\n",
    "\n",
    "X_train, X_val, y_train, y_val = train_test_split(X_train, y_train, test_size=0.2, stratify=y_train, random_state=0)\n",
    "\n",
    "X_train.shape, X_val.shape, X_test.shape"
   ]
  },
  {
   "cell_type": "code",
   "execution_count": 199,
   "metadata": {
    "ExecuteTime": {
     "end_time": "2022-07-14T02:32:29.303855Z",
     "start_time": "2022-07-14T02:32:29.297649Z"
    },
    "slideshow": {
     "slide_type": "fragment"
    }
   },
   "outputs": [
    {
     "data": {
      "text/plain": [
       "array([[1.955e+01, 2.321e+01, 1.289e+02, 1.174e+03, 1.010e-01, 1.318e-01,\n",
       "        1.856e-01, 1.021e-01, 1.989e-01, 5.884e-02, 6.107e-01, 2.836e+00,\n",
       "        5.383e+00, 7.010e+01, 1.124e-02, 4.097e-02, 7.469e-02, 3.441e-02,\n",
       "        2.768e-02, 6.240e-03, 2.082e+01, 3.044e+01, 1.420e+02, 1.313e+03,\n",
       "        1.251e-01, 2.414e-01, 3.829e-01, 1.825e-01, 2.576e-01, 7.602e-02],\n",
       "       [1.378e+01, 1.579e+01, 8.837e+01, 5.859e+02, 8.817e-02, 6.718e-02,\n",
       "        1.055e-02, 9.937e-03, 1.405e-01, 5.848e-02, 3.563e-01, 4.833e-01,\n",
       "        2.235e+00, 2.934e+01, 6.432e-03, 1.156e-02, 7.741e-03, 5.657e-03,\n",
       "        1.227e-02, 2.564e-03, 1.527e+01, 1.750e+01, 9.790e+01, 7.066e+02,\n",
       "        1.072e-01, 1.071e-01, 3.517e-02, 3.312e-02, 1.859e-01, 6.810e-02],\n",
       "       [1.865e+01, 1.760e+01, 1.237e+02, 1.076e+03, 1.099e-01, 1.686e-01,\n",
       "        1.974e-01, 1.009e-01, 1.907e-01, 6.049e-02, 6.289e-01, 6.633e-01,\n",
       "        4.293e+00, 7.156e+01, 6.294e-03, 3.994e-02, 5.554e-02, 1.695e-02,\n",
       "        2.428e-02, 3.535e-03, 2.282e+01, 2.132e+01, 1.506e+02, 1.567e+03,\n",
       "        1.679e-01, 5.090e-01, 7.345e-01, 2.378e-01, 3.799e-01, 9.185e-02]])"
      ]
     },
     "execution_count": 199,
     "metadata": {},
     "output_type": "execute_result"
    }
   ],
   "source": [
    "X_train[:3]"
   ]
  },
  {
   "cell_type": "code",
   "execution_count": 200,
   "metadata": {
    "ExecuteTime": {
     "end_time": "2022-07-14T02:33:27.965202Z",
     "start_time": "2022-07-14T02:33:27.960470Z"
    },
    "slideshow": {
     "slide_type": "fragment"
    }
   },
   "outputs": [
    {
     "data": {
      "text/plain": [
       "array([0, 1, 0])"
      ]
     },
     "execution_count": 200,
     "metadata": {},
     "output_type": "execute_result"
    }
   ],
   "source": [
    "y_train[:3]"
   ]
  },
  {
   "cell_type": "markdown",
   "metadata": {
    "slideshow": {
     "slide_type": "slide"
    }
   },
   "source": [
    "#### 하이퍼파라미터, 변수 정의"
   ]
  },
  {
   "cell_type": "code",
   "execution_count": 201,
   "metadata": {
    "ExecuteTime": {
     "end_time": "2022-07-14T02:33:30.678934Z",
     "start_time": "2022-07-14T02:33:30.673647Z"
    },
    "slideshow": {
     "slide_type": "fragment"
    }
   },
   "outputs": [],
   "source": [
    "LEARNING_RATE = 0.001\n",
    "N_EPOCHS = 150\n",
    "N_BATCHS = 50\n",
    "\n",
    "N_TRAIN = X_train.shape[0]\n",
    "N_VAL = X_val.shape[0]\n",
    "N_TEST = X_test.shape[0]"
   ]
  },
  {
   "cell_type": "markdown",
   "metadata": {
    "slideshow": {
     "slide_type": "fragment"
    }
   },
   "source": [
    "#### 데이터 전처리\n",
    "- 이진 분류\n",
    "    - 출력 레이어의 unit을 1개, activation 함수를 sigmoid를 사용하는 경우(1일 확률) => y:그대로 사용\n",
    "    - 출력 레이어의 unit을 2개, activation 함수를 sofmax를 사용하는 경우(0일 확률, 1일 확률) - 다중분류와 동일하게 구현 => y: one hot encoding\n",
    "- X: 테이블데이터\n",
    "    - 문자열(범주형): one hot encoding\n",
    "    - 연속형(수치형): feature scaling"
   ]
  },
  {
   "cell_type": "code",
   "execution_count": 202,
   "metadata": {
    "ExecuteTime": {
     "end_time": "2022-07-14T02:36:58.903693Z",
     "start_time": "2022-07-14T02:36:58.897671Z"
    },
    "slideshow": {
     "slide_type": "fragment"
    }
   },
   "outputs": [],
   "source": [
    "scaler = StandardScaler()\n",
    "\n",
    "X_train_scaled = scaler.fit_transform(X_train)\n",
    "X_val_scaled = scaler.transform(X_val)\n",
    "X_test_scaled = scaler.transform(X_test)"
   ]
  },
  {
   "cell_type": "markdown",
   "metadata": {
    "slideshow": {
     "slide_type": "slide"
    }
   },
   "source": [
    "#### Dataset 생성"
   ]
  },
  {
   "cell_type": "code",
   "execution_count": 203,
   "metadata": {
    "ExecuteTime": {
     "end_time": "2022-07-14T02:37:10.378675Z",
     "start_time": "2022-07-14T02:37:10.346801Z"
    },
    "slideshow": {
     "slide_type": "fragment"
    }
   },
   "outputs": [],
   "source": [
    "train_dataset = tf.data.Dataset.from_tensor_slices((X_train_scaled, y_train)).shuffle(N_TRAIN).batch(N_BATCHS, drop_remainder=True)\n",
    "\n",
    "val_dataset = tf.data.Dataset.from_tensor_slices((X_val_scaled, y_val)).batch(N_BATCHS)\n",
    "\n",
    "test_dataset = tf.data.Dataset.from_tensor_slices((X_test_scaled, y_test)).batch(N_BATCHS)"
   ]
  },
  {
   "cell_type": "markdown",
   "metadata": {
    "slideshow": {
     "slide_type": "slide"
    }
   },
   "source": [
    "#### model 생성, 컴파일"
   ]
  },
  {
   "cell_type": "code",
   "execution_count": 204,
   "metadata": {
    "ExecuteTime": {
     "end_time": "2022-07-14T02:37:33.793450Z",
     "start_time": "2022-07-14T02:37:33.786097Z"
    },
    "slideshow": {
     "slide_type": "fragment"
    }
   },
   "outputs": [],
   "source": [
    "def create_wisconsin_model():\n",
    "    model = keras.Sequential()\n",
    "    model.add(layers.Dense(units=32, activation='relu', input_shape=(30, )))\n",
    "    model.add(layers.Dense(units=16, activation='relu'))\n",
    "    model.add(layers.Dense(units=8, activation='relu'))\n",
    "    \n",
    "    model.add(layers.Dense(units=1, activation='sigmoid', name='Output_layer'))\n",
    "    \n",
    "    return model"
   ]
  },
  {
   "cell_type": "code",
   "execution_count": 205,
   "metadata": {
    "ExecuteTime": {
     "end_time": "2022-07-14T02:37:35.697175Z",
     "start_time": "2022-07-14T02:37:35.630441Z"
    },
    "slideshow": {
     "slide_type": "fragment"
    }
   },
   "outputs": [],
   "source": [
    "model = create_wisconsin_model()\n",
    "model.compile(optimizer=keras.optimizers.Adam(learning_rate=LEARNING_RATE), \n",
    "              loss='binary_crossentropy',\n",
    "              metrics=['accuracy'])"
   ]
  },
  {
   "cell_type": "code",
   "execution_count": 206,
   "metadata": {
    "ExecuteTime": {
     "end_time": "2022-07-14T02:37:37.313100Z",
     "start_time": "2022-07-14T02:37:37.301384Z"
    },
    "slideshow": {
     "slide_type": "fragment"
    }
   },
   "outputs": [
    {
     "name": "stdout",
     "output_type": "stream",
     "text": [
      "Model: \"sequential_6\"\n",
      "_________________________________________________________________\n",
      " Layer (type)                Output Shape              Param #   \n",
      "=================================================================\n",
      " dense_24 (Dense)            (None, 32)                992       \n",
      "                                                                 \n",
      " dense_25 (Dense)            (None, 16)                528       \n",
      "                                                                 \n",
      " dense_26 (Dense)            (None, 8)                 136       \n",
      "                                                                 \n",
      " Output_layer (Dense)        (None, 1)                 9         \n",
      "                                                                 \n",
      "=================================================================\n",
      "Total params: 1,665\n",
      "Trainable params: 1,665\n",
      "Non-trainable params: 0\n",
      "_________________________________________________________________\n"
     ]
    }
   ],
   "source": [
    "model.summary()"
   ]
  },
  {
   "cell_type": "code",
   "execution_count": 207,
   "metadata": {
    "ExecuteTime": {
     "end_time": "2022-07-14T02:46:03.197225Z",
     "start_time": "2022-07-14T02:46:02.945967Z"
    },
    "slideshow": {
     "slide_type": "fragment"
    }
   },
   "outputs": [
    {
     "data": {
      "image/png": "[encoded data removed]",
      "text/plain": [
       "<IPython.core.display.Image object>"
      ]
     },
     "execution_count": 207,
     "metadata": {},
     "output_type": "execute_result"
    }
   ],
   "source": [
    "keras.utils.plot_model(model, show_shapes=True, to_file='cancer_model.png')"
   ]
  },
  {
   "cell_type": "markdown",
   "metadata": {
    "slideshow": {
     "slide_type": "slide"
    }
   },
   "source": [
    "#### Train(학습)"
   ]
  },
  {
   "cell_type": "code",
   "execution_count": 208,
   "metadata": {
    "ExecuteTime": {
     "end_time": "2022-07-14T02:46:15.060922Z",
     "start_time": "2022-07-14T02:46:06.563509Z"
    },
    "slideshow": {
     "slide_type": "fragment"
    }
   },
   "outputs": [
    {
     "name": "stdout",
     "output_type": "stream",
     "text": [
      "Epoch 1/150\n",
      "1/7 [===>..........................] - ETA: 1s - loss: 0.6589 - accuracy: 0.6200"
     ]
    },
    {
     "name": "stderr",
     "output_type": "stream",
     "text": [
      "2022-07-14 11:46:06.761971: I tensorflow/core/grappler/optimizers/custom_graph_optimizer_registry.cc:113] Plugin optimizer for device_type GPU is enabled.\n",
      "2022-07-14 11:46:06.911130: I tensorflow/core/grappler/optimizers/custom_graph_optimizer_registry.cc:113] Plugin optimizer for device_type GPU is enabled.\n"
     ]
    },
    {
     "name": "stdout",
     "output_type": "stream",
     "text": [
      "7/7 [==============================] - 0s 21ms/step - loss: 0.6079 - accuracy: 0.6857 - val_loss: 0.5870 - val_accuracy: 0.8022\n",
      "Epoch 2/150\n",
      "7/7 [==============================] - 0s 7ms/step - loss: 0.5478 - accuracy: 0.8257 - val_loss: 0.5405 - val_accuracy: 0.8681\n",
      "Epoch 3/150\n",
      "7/7 [==============================] - 0s 8ms/step - loss: 0.4975 - accuracy: 0.9086 - val_loss: 0.4997 - val_accuracy: 0.8791\n",
      "Epoch 4/150\n",
      "7/7 [==============================] - 0s 8ms/step - loss: 0.4564 - accuracy: 0.9257 - val_loss: 0.4627 - val_accuracy: 0.8791\n",
      "Epoch 5/150\n",
      "7/7 [==============================] - 0s 7ms/step - loss: 0.4156 - accuracy: 0.9429 - val_loss: 0.4251 - val_accuracy: 0.9011\n",
      "Epoch 6/150\n",
      "7/7 [==============================] - 0s 8ms/step - loss: 0.3743 - accuracy: 0.9514 - val_loss: 0.3860 - val_accuracy: 0.9011\n",
      "Epoch 7/150\n",
      "7/7 [==============================] - 0s 7ms/step - loss: 0.3366 - accuracy: 0.9629 - val_loss: 0.3459 - val_accuracy: 0.9341\n",
      "Epoch 8/150\n",
      "7/7 [==============================] - 0s 8ms/step - loss: 0.2945 - accuracy: 0.9657 - val_loss: 0.3054 - val_accuracy: 0.9341\n",
      "Epoch 9/150\n",
      "7/7 [==============================] - 0s 8ms/step - loss: 0.2589 - accuracy: 0.9686 - val_loss: 0.2660 - val_accuracy: 0.9341\n",
      "Epoch 10/150\n",
      "7/7 [==============================] - 0s 8ms/step - loss: 0.2253 - accuracy: 0.9743 - val_loss: 0.2287 - val_accuracy: 0.9560\n",
      "Epoch 11/150\n",
      "7/7 [==============================] - 0s 9ms/step - loss: 0.1950 - accuracy: 0.9800 - val_loss: 0.1954 - val_accuracy: 0.9670\n",
      "Epoch 12/150\n",
      "7/7 [==============================] - 0s 8ms/step - loss: 0.1696 - accuracy: 0.9743 - val_loss: 0.1670 - val_accuracy: 0.9670\n",
      "Epoch 13/150\n",
      "7/7 [==============================] - 0s 8ms/step - loss: 0.1479 - accuracy: 0.9771 - val_loss: 0.1443 - val_accuracy: 0.9780\n",
      "Epoch 14/150\n",
      "7/7 [==============================] - 0s 7ms/step - loss: 0.1260 - accuracy: 0.9829 - val_loss: 0.1255 - val_accuracy: 0.9780\n",
      "Epoch 15/150\n",
      "7/7 [==============================] - 0s 8ms/step - loss: 0.1151 - accuracy: 0.9771 - val_loss: 0.1114 - val_accuracy: 0.9780\n",
      "Epoch 16/150\n",
      "7/7 [==============================] - 0s 8ms/step - loss: 0.0999 - accuracy: 0.9800 - val_loss: 0.0986 - val_accuracy: 0.9780\n",
      "Epoch 17/150\n",
      "7/7 [==============================] - 0s 8ms/step - loss: 0.0944 - accuracy: 0.9771 - val_loss: 0.0886 - val_accuracy: 0.9780\n",
      "Epoch 18/150\n",
      "7/7 [==============================] - 0s 7ms/step - loss: 0.0871 - accuracy: 0.9800 - val_loss: 0.0806 - val_accuracy: 0.9890\n",
      "Epoch 19/150\n",
      "7/7 [==============================] - 0s 7ms/step - loss: 0.0780 - accuracy: 0.9829 - val_loss: 0.0747 - val_accuracy: 0.9890\n",
      "Epoch 20/150\n",
      "7/7 [==============================] - 0s 7ms/step - loss: 0.0754 - accuracy: 0.9771 - val_loss: 0.0698 - val_accuracy: 0.9890\n",
      "Epoch 21/150\n",
      "7/7 [==============================] - 0s 7ms/step - loss: 0.0700 - accuracy: 0.9829 - val_loss: 0.0644 - val_accuracy: 0.9890\n",
      "Epoch 22/150\n",
      "7/7 [==============================] - 0s 8ms/step - loss: 0.0633 - accuracy: 0.9857 - val_loss: 0.0607 - val_accuracy: 0.9890\n",
      "Epoch 23/150\n",
      "7/7 [==============================] - 0s 6ms/step - loss: 0.0638 - accuracy: 0.9829 - val_loss: 0.0574 - val_accuracy: 0.9890\n",
      "Epoch 24/150\n",
      "7/7 [==============================] - 0s 7ms/step - loss: 0.0613 - accuracy: 0.9829 - val_loss: 0.0537 - val_accuracy: 0.9890\n",
      "Epoch 25/150\n",
      "7/7 [==============================] - 0s 8ms/step - loss: 0.0457 - accuracy: 0.9914 - val_loss: 0.0507 - val_accuracy: 0.9890\n",
      "Epoch 26/150\n",
      "7/7 [==============================] - 0s 8ms/step - loss: 0.0495 - accuracy: 0.9943 - val_loss: 0.0481 - val_accuracy: 0.9890\n",
      "Epoch 27/150\n",
      "7/7 [==============================] - 0s 8ms/step - loss: 0.0532 - accuracy: 0.9886 - val_loss: 0.0457 - val_accuracy: 0.9890\n",
      "Epoch 28/150\n",
      "7/7 [==============================] - 0s 8ms/step - loss: 0.0513 - accuracy: 0.9914 - val_loss: 0.0438 - val_accuracy: 0.9890\n",
      "Epoch 29/150\n",
      "7/7 [==============================] - 0s 8ms/step - loss: 0.0498 - accuracy: 0.9914 - val_loss: 0.0422 - val_accuracy: 0.9890\n",
      "Epoch 30/150\n",
      "7/7 [==============================] - 0s 8ms/step - loss: 0.0488 - accuracy: 0.9914 - val_loss: 0.0411 - val_accuracy: 0.9890\n",
      "Epoch 31/150\n",
      "7/7 [==============================] - 0s 8ms/step - loss: 0.0459 - accuracy: 0.9914 - val_loss: 0.0394 - val_accuracy: 0.9890\n",
      "Epoch 32/150\n",
      "7/7 [==============================] - 0s 8ms/step - loss: 0.0447 - accuracy: 0.9914 - val_loss: 0.0375 - val_accuracy: 0.9890\n",
      "Epoch 33/150\n",
      "7/7 [==============================] - 0s 8ms/step - loss: 0.0430 - accuracy: 0.9914 - val_loss: 0.0368 - val_accuracy: 0.9890\n",
      "Epoch 34/150\n",
      "7/7 [==============================] - 0s 10ms/step - loss: 0.0412 - accuracy: 0.9914 - val_loss: 0.0364 - val_accuracy: 0.9890\n",
      "Epoch 35/150\n",
      "7/7 [==============================] - 0s 9ms/step - loss: 0.0386 - accuracy: 0.9914 - val_loss: 0.0358 - val_accuracy: 0.9890\n",
      "Epoch 36/150\n",
      "7/7 [==============================] - 0s 8ms/step - loss: 0.0374 - accuracy: 0.9914 - val_loss: 0.0348 - val_accuracy: 0.9890\n",
      "Epoch 37/150\n",
      "7/7 [==============================] - 0s 8ms/step - loss: 0.0375 - accuracy: 0.9914 - val_loss: 0.0337 - val_accuracy: 0.9890\n",
      "Epoch 38/150\n",
      "7/7 [==============================] - 0s 8ms/step - loss: 0.0357 - accuracy: 0.9943 - val_loss: 0.0326 - val_accuracy: 0.9890\n",
      "Epoch 39/150\n",
      "7/7 [==============================] - 0s 7ms/step - loss: 0.0345 - accuracy: 0.9943 - val_loss: 0.0322 - val_accuracy: 0.9890\n",
      "Epoch 40/150\n",
      "7/7 [==============================] - 0s 7ms/step - loss: 0.0334 - accuracy: 0.9943 - val_loss: 0.0315 - val_accuracy: 0.9890\n",
      "Epoch 41/150\n",
      "7/7 [==============================] - 0s 8ms/step - loss: 0.0312 - accuracy: 0.9943 - val_loss: 0.0314 - val_accuracy: 0.9890\n",
      "Epoch 42/150\n",
      "7/7 [==============================] - 0s 7ms/step - loss: 0.0302 - accuracy: 0.9943 - val_loss: 0.0312 - val_accuracy: 0.9890\n",
      "Epoch 43/150\n",
      "7/7 [==============================] - 0s 7ms/step - loss: 0.0306 - accuracy: 0.9943 - val_loss: 0.0310 - val_accuracy: 0.9890\n",
      "Epoch 44/150\n",
      "7/7 [==============================] - 0s 9ms/step - loss: 0.0289 - accuracy: 0.9943 - val_loss: 0.0308 - val_accuracy: 0.9890\n",
      "Epoch 45/150\n",
      "7/7 [==============================] - 0s 8ms/step - loss: 0.0280 - accuracy: 0.9943 - val_loss: 0.0307 - val_accuracy: 0.9890\n",
      "Epoch 46/150\n",
      "7/7 [==============================] - 0s 8ms/step - loss: 0.0274 - accuracy: 0.9943 - val_loss: 0.0307 - val_accuracy: 0.9890\n",
      "Epoch 47/150\n",
      "7/7 [==============================] - 0s 7ms/step - loss: 0.0271 - accuracy: 0.9943 - val_loss: 0.0305 - val_accuracy: 0.9890\n",
      "Epoch 48/150\n",
      "7/7 [==============================] - 0s 8ms/step - loss: 0.0264 - accuracy: 0.9943 - val_loss: 0.0303 - val_accuracy: 0.9890\n",
      "Epoch 49/150\n",
      "7/7 [==============================] - 0s 8ms/step - loss: 0.0255 - accuracy: 0.9943 - val_loss: 0.0298 - val_accuracy: 0.9890\n",
      "Epoch 50/150\n",
      "7/7 [==============================] - 0s 7ms/step - loss: 0.0232 - accuracy: 0.9943 - val_loss: 0.0295 - val_accuracy: 0.9890\n",
      "Epoch 51/150\n",
      "7/7 [==============================] - 0s 8ms/step - loss: 0.0237 - accuracy: 0.9943 - val_loss: 0.0299 - val_accuracy: 0.9890\n",
      "Epoch 52/150\n",
      "7/7 [==============================] - 0s 7ms/step - loss: 0.0231 - accuracy: 0.9943 - val_loss: 0.0304 - val_accuracy: 0.9780\n",
      "Epoch 53/150\n",
      "7/7 [==============================] - 0s 7ms/step - loss: 0.0223 - accuracy: 0.9943 - val_loss: 0.0302 - val_accuracy: 0.9780\n",
      "Epoch 54/150\n",
      "7/7 [==============================] - 0s 7ms/step - loss: 0.0218 - accuracy: 0.9943 - val_loss: 0.0299 - val_accuracy: 0.9780\n",
      "Epoch 55/150\n",
      "7/7 [==============================] - 0s 7ms/step - loss: 0.0216 - accuracy: 0.9943 - val_loss: 0.0295 - val_accuracy: 0.9780\n",
      "Epoch 56/150\n",
      "7/7 [==============================] - 0s 7ms/step - loss: 0.0211 - accuracy: 0.9943 - val_loss: 0.0299 - val_accuracy: 0.9780\n",
      "Epoch 57/150\n",
      "7/7 [==============================] - 0s 8ms/step - loss: 0.0204 - accuracy: 0.9971 - val_loss: 0.0302 - val_accuracy: 0.9780\n",
      "Epoch 58/150\n",
      "7/7 [==============================] - 0s 8ms/step - loss: 0.0199 - accuracy: 0.9971 - val_loss: 0.0306 - val_accuracy: 0.9780\n",
      "Epoch 59/150\n"
     ]
    },
    {
     "name": "stdout",
     "output_type": "stream",
     "text": [
      "7/7 [==============================] - 0s 8ms/step - loss: 0.0193 - accuracy: 0.9971 - val_loss: 0.0305 - val_accuracy: 0.9780\n",
      "Epoch 60/150\n",
      "7/7 [==============================] - 0s 7ms/step - loss: 0.0189 - accuracy: 0.9971 - val_loss: 0.0307 - val_accuracy: 0.9780\n",
      "Epoch 61/150\n",
      "7/7 [==============================] - 0s 7ms/step - loss: 0.0184 - accuracy: 0.9971 - val_loss: 0.0308 - val_accuracy: 0.9780\n",
      "Epoch 62/150\n",
      "7/7 [==============================] - 0s 7ms/step - loss: 0.0176 - accuracy: 0.9971 - val_loss: 0.0315 - val_accuracy: 0.9780\n",
      "Epoch 63/150\n",
      "7/7 [==============================] - 0s 7ms/step - loss: 0.0173 - accuracy: 0.9971 - val_loss: 0.0314 - val_accuracy: 0.9780\n",
      "Epoch 64/150\n",
      "7/7 [==============================] - 0s 6ms/step - loss: 0.0168 - accuracy: 0.9971 - val_loss: 0.0314 - val_accuracy: 0.9780\n",
      "Epoch 65/150\n",
      "7/7 [==============================] - 0s 7ms/step - loss: 0.0159 - accuracy: 0.9971 - val_loss: 0.0316 - val_accuracy: 0.9780\n",
      "Epoch 66/150\n",
      "7/7 [==============================] - 0s 7ms/step - loss: 0.0150 - accuracy: 0.9971 - val_loss: 0.0319 - val_accuracy: 0.9780\n",
      "Epoch 67/150\n",
      "7/7 [==============================] - 0s 7ms/step - loss: 0.0152 - accuracy: 0.9971 - val_loss: 0.0320 - val_accuracy: 0.9780\n",
      "Epoch 68/150\n",
      "7/7 [==============================] - 0s 8ms/step - loss: 0.0145 - accuracy: 0.9971 - val_loss: 0.0323 - val_accuracy: 0.9780\n",
      "Epoch 69/150\n",
      "7/7 [==============================] - 0s 7ms/step - loss: 0.0146 - accuracy: 0.9971 - val_loss: 0.0326 - val_accuracy: 0.9780\n",
      "Epoch 70/150\n",
      "7/7 [==============================] - 0s 7ms/step - loss: 0.0137 - accuracy: 0.9971 - val_loss: 0.0327 - val_accuracy: 0.9780\n",
      "Epoch 71/150\n",
      "7/7 [==============================] - 0s 8ms/step - loss: 0.0134 - accuracy: 0.9971 - val_loss: 0.0327 - val_accuracy: 0.9780\n",
      "Epoch 72/150\n",
      "7/7 [==============================] - 0s 8ms/step - loss: 0.0128 - accuracy: 0.9971 - val_loss: 0.0326 - val_accuracy: 0.9780\n",
      "Epoch 73/150\n",
      "7/7 [==============================] - 0s 8ms/step - loss: 0.0125 - accuracy: 0.9971 - val_loss: 0.0330 - val_accuracy: 0.9780\n",
      "Epoch 74/150\n",
      "7/7 [==============================] - 0s 8ms/step - loss: 0.0117 - accuracy: 0.9971 - val_loss: 0.0332 - val_accuracy: 0.9780\n",
      "Epoch 75/150\n",
      "7/7 [==============================] - 0s 7ms/step - loss: 0.0115 - accuracy: 0.9971 - val_loss: 0.0329 - val_accuracy: 0.9780\n",
      "Epoch 76/150\n",
      "7/7 [==============================] - 0s 7ms/step - loss: 0.0115 - accuracy: 0.9971 - val_loss: 0.0330 - val_accuracy: 0.9780\n",
      "Epoch 77/150\n",
      "7/7 [==============================] - 0s 8ms/step - loss: 0.0109 - accuracy: 0.9971 - val_loss: 0.0334 - val_accuracy: 0.9780\n",
      "Epoch 78/150\n",
      "7/7 [==============================] - 0s 7ms/step - loss: 0.0107 - accuracy: 0.9971 - val_loss: 0.0336 - val_accuracy: 0.9780\n",
      "Epoch 79/150\n",
      "7/7 [==============================] - 0s 7ms/step - loss: 0.0104 - accuracy: 0.9971 - val_loss: 0.0337 - val_accuracy: 0.9780\n",
      "Epoch 80/150\n",
      "7/7 [==============================] - 0s 8ms/step - loss: 0.0097 - accuracy: 0.9971 - val_loss: 0.0337 - val_accuracy: 0.9780\n",
      "Epoch 81/150\n",
      "7/7 [==============================] - 0s 7ms/step - loss: 0.0097 - accuracy: 0.9971 - val_loss: 0.0339 - val_accuracy: 0.9780\n",
      "Epoch 82/150\n",
      "7/7 [==============================] - 0s 9ms/step - loss: 0.0095 - accuracy: 0.9971 - val_loss: 0.0338 - val_accuracy: 0.9780\n",
      "Epoch 83/150\n",
      "7/7 [==============================] - 0s 7ms/step - loss: 0.0091 - accuracy: 0.9971 - val_loss: 0.0343 - val_accuracy: 0.9780\n",
      "Epoch 84/150\n",
      "7/7 [==============================] - 0s 7ms/step - loss: 0.0089 - accuracy: 0.9971 - val_loss: 0.0349 - val_accuracy: 0.9780\n",
      "Epoch 85/150\n",
      "7/7 [==============================] - 0s 7ms/step - loss: 0.0083 - accuracy: 0.9971 - val_loss: 0.0354 - val_accuracy: 0.9780\n",
      "Epoch 86/150\n",
      "7/7 [==============================] - 0s 8ms/step - loss: 0.0083 - accuracy: 0.9971 - val_loss: 0.0358 - val_accuracy: 0.9780\n",
      "Epoch 87/150\n",
      "7/7 [==============================] - 0s 11ms/step - loss: 0.0079 - accuracy: 0.9971 - val_loss: 0.0354 - val_accuracy: 0.9780\n",
      "Epoch 88/150\n",
      "7/7 [==============================] - 0s 8ms/step - loss: 0.0077 - accuracy: 0.9971 - val_loss: 0.0358 - val_accuracy: 0.9780\n",
      "Epoch 89/150\n",
      "7/7 [==============================] - 0s 7ms/step - loss: 0.0073 - accuracy: 0.9971 - val_loss: 0.0361 - val_accuracy: 0.9780\n",
      "Epoch 90/150\n",
      "7/7 [==============================] - 0s 7ms/step - loss: 0.0064 - accuracy: 0.9971 - val_loss: 0.0365 - val_accuracy: 0.9780\n",
      "Epoch 91/150\n",
      "7/7 [==============================] - 0s 8ms/step - loss: 0.0067 - accuracy: 0.9971 - val_loss: 0.0370 - val_accuracy: 0.9780\n",
      "Epoch 92/150\n",
      "7/7 [==============================] - 0s 7ms/step - loss: 0.0064 - accuracy: 0.9971 - val_loss: 0.0372 - val_accuracy: 0.9780\n",
      "Epoch 93/150\n",
      "7/7 [==============================] - 0s 8ms/step - loss: 0.0059 - accuracy: 0.9971 - val_loss: 0.0376 - val_accuracy: 0.9780\n",
      "Epoch 94/150\n",
      "7/7 [==============================] - 0s 8ms/step - loss: 0.0057 - accuracy: 0.9971 - val_loss: 0.0379 - val_accuracy: 0.9780\n",
      "Epoch 95/150\n",
      "7/7 [==============================] - 0s 9ms/step - loss: 0.0054 - accuracy: 1.0000 - val_loss: 0.0383 - val_accuracy: 0.9780\n",
      "Epoch 96/150\n",
      "7/7 [==============================] - 0s 8ms/step - loss: 0.0053 - accuracy: 1.0000 - val_loss: 0.0387 - val_accuracy: 0.9780\n",
      "Epoch 97/150\n",
      "7/7 [==============================] - 0s 8ms/step - loss: 0.0050 - accuracy: 1.0000 - val_loss: 0.0387 - val_accuracy: 0.9780\n",
      "Epoch 98/150\n",
      "7/7 [==============================] - 0s 7ms/step - loss: 0.0049 - accuracy: 1.0000 - val_loss: 0.0390 - val_accuracy: 0.9780\n",
      "Epoch 99/150\n",
      "7/7 [==============================] - 0s 6ms/step - loss: 0.0047 - accuracy: 1.0000 - val_loss: 0.0389 - val_accuracy: 0.9780\n",
      "Epoch 100/150\n",
      "7/7 [==============================] - 0s 8ms/step - loss: 0.0045 - accuracy: 1.0000 - val_loss: 0.0394 - val_accuracy: 0.9780\n",
      "Epoch 101/150\n",
      "7/7 [==============================] - 0s 6ms/step - loss: 0.0042 - accuracy: 1.0000 - val_loss: 0.0396 - val_accuracy: 0.9780\n",
      "Epoch 102/150\n",
      "7/7 [==============================] - 0s 7ms/step - loss: 0.0040 - accuracy: 1.0000 - val_loss: 0.0398 - val_accuracy: 0.9780\n",
      "Epoch 103/150\n",
      "7/7 [==============================] - 0s 7ms/step - loss: 0.0039 - accuracy: 1.0000 - val_loss: 0.0403 - val_accuracy: 0.9780\n",
      "Epoch 104/150\n",
      "7/7 [==============================] - 0s 7ms/step - loss: 0.0038 - accuracy: 1.0000 - val_loss: 0.0403 - val_accuracy: 0.9780\n",
      "Epoch 105/150\n",
      "7/7 [==============================] - 0s 9ms/step - loss: 0.0037 - accuracy: 1.0000 - val_loss: 0.0402 - val_accuracy: 0.9780\n",
      "Epoch 106/150\n",
      "7/7 [==============================] - 0s 8ms/step - loss: 0.0036 - accuracy: 1.0000 - val_loss: 0.0405 - val_accuracy: 0.9780\n",
      "Epoch 107/150\n",
      "7/7 [==============================] - 0s 7ms/step - loss: 0.0033 - accuracy: 1.0000 - val_loss: 0.0407 - val_accuracy: 0.9780\n",
      "Epoch 108/150\n",
      "7/7 [==============================] - 0s 7ms/step - loss: 0.0032 - accuracy: 1.0000 - val_loss: 0.0410 - val_accuracy: 0.9780\n",
      "Epoch 109/150\n",
      "7/7 [==============================] - 0s 8ms/step - loss: 0.0032 - accuracy: 1.0000 - val_loss: 0.0414 - val_accuracy: 0.9780\n",
      "Epoch 110/150\n",
      "7/7 [==============================] - 0s 8ms/step - loss: 0.0030 - accuracy: 1.0000 - val_loss: 0.0417 - val_accuracy: 0.9780\n",
      "Epoch 111/150\n",
      "7/7 [==============================] - 0s 8ms/step - loss: 0.0028 - accuracy: 1.0000 - val_loss: 0.0418 - val_accuracy: 0.9780\n",
      "Epoch 112/150\n",
      "7/7 [==============================] - 0s 7ms/step - loss: 0.0024 - accuracy: 1.0000 - val_loss: 0.0420 - val_accuracy: 0.9780\n",
      "Epoch 113/150\n",
      "7/7 [==============================] - 0s 7ms/step - loss: 0.0028 - accuracy: 1.0000 - val_loss: 0.0424 - val_accuracy: 0.9780\n",
      "Epoch 114/150\n",
      "7/7 [==============================] - 0s 8ms/step - loss: 0.0024 - accuracy: 1.0000 - val_loss: 0.0429 - val_accuracy: 0.9780\n",
      "Epoch 115/150\n",
      "7/7 [==============================] - 0s 8ms/step - loss: 0.0026 - accuracy: 1.0000 - val_loss: 0.0433 - val_accuracy: 0.9780\n",
      "Epoch 116/150\n",
      "7/7 [==============================] - 0s 8ms/step - loss: 0.0023 - accuracy: 1.0000 - val_loss: 0.0434 - val_accuracy: 0.9780\n",
      "Epoch 117/150\n"
     ]
    },
    {
     "name": "stdout",
     "output_type": "stream",
     "text": [
      "7/7 [==============================] - 0s 7ms/step - loss: 0.0024 - accuracy: 1.0000 - val_loss: 0.0435 - val_accuracy: 0.9780\n",
      "Epoch 118/150\n",
      "7/7 [==============================] - 0s 9ms/step - loss: 0.0024 - accuracy: 1.0000 - val_loss: 0.0437 - val_accuracy: 0.9780\n",
      "Epoch 119/150\n",
      "7/7 [==============================] - 0s 8ms/step - loss: 0.0023 - accuracy: 1.0000 - val_loss: 0.0440 - val_accuracy: 0.9780\n",
      "Epoch 120/150\n",
      "7/7 [==============================] - 0s 7ms/step - loss: 0.0022 - accuracy: 1.0000 - val_loss: 0.0441 - val_accuracy: 0.9780\n",
      "Epoch 121/150\n",
      "7/7 [==============================] - 0s 8ms/step - loss: 0.0020 - accuracy: 1.0000 - val_loss: 0.0445 - val_accuracy: 0.9780\n",
      "Epoch 122/150\n",
      "7/7 [==============================] - 0s 7ms/step - loss: 0.0021 - accuracy: 1.0000 - val_loss: 0.0448 - val_accuracy: 0.9780\n",
      "Epoch 123/150\n",
      "7/7 [==============================] - 0s 8ms/step - loss: 0.0020 - accuracy: 1.0000 - val_loss: 0.0450 - val_accuracy: 0.9780\n",
      "Epoch 124/150\n",
      "7/7 [==============================] - 0s 7ms/step - loss: 0.0020 - accuracy: 1.0000 - val_loss: 0.0449 - val_accuracy: 0.9780\n",
      "Epoch 125/150\n",
      "7/7 [==============================] - 0s 8ms/step - loss: 0.0017 - accuracy: 1.0000 - val_loss: 0.0454 - val_accuracy: 0.9780\n",
      "Epoch 126/150\n",
      "7/7 [==============================] - 0s 7ms/step - loss: 0.0019 - accuracy: 1.0000 - val_loss: 0.0457 - val_accuracy: 0.9780\n",
      "Epoch 127/150\n",
      "7/7 [==============================] - 0s 6ms/step - loss: 0.0018 - accuracy: 1.0000 - val_loss: 0.0458 - val_accuracy: 0.9780\n",
      "Epoch 128/150\n",
      "7/7 [==============================] - 0s 7ms/step - loss: 0.0017 - accuracy: 1.0000 - val_loss: 0.0462 - val_accuracy: 0.9780\n",
      "Epoch 129/150\n",
      "7/7 [==============================] - 0s 6ms/step - loss: 0.0017 - accuracy: 1.0000 - val_loss: 0.0465 - val_accuracy: 0.9780\n",
      "Epoch 130/150\n",
      "7/7 [==============================] - 0s 6ms/step - loss: 0.0017 - accuracy: 1.0000 - val_loss: 0.0466 - val_accuracy: 0.9780\n",
      "Epoch 131/150\n",
      "7/7 [==============================] - 0s 7ms/step - loss: 0.0015 - accuracy: 1.0000 - val_loss: 0.0468 - val_accuracy: 0.9780\n",
      "Epoch 132/150\n",
      "7/7 [==============================] - 0s 8ms/step - loss: 0.0016 - accuracy: 1.0000 - val_loss: 0.0469 - val_accuracy: 0.9780\n",
      "Epoch 133/150\n",
      "7/7 [==============================] - 0s 8ms/step - loss: 0.0015 - accuracy: 1.0000 - val_loss: 0.0470 - val_accuracy: 0.9780\n",
      "Epoch 134/150\n",
      "7/7 [==============================] - 0s 7ms/step - loss: 0.0015 - accuracy: 1.0000 - val_loss: 0.0472 - val_accuracy: 0.9780\n",
      "Epoch 135/150\n",
      "7/7 [==============================] - 0s 7ms/step - loss: 0.0014 - accuracy: 1.0000 - val_loss: 0.0475 - val_accuracy: 0.9780\n",
      "Epoch 136/150\n",
      "7/7 [==============================] - 0s 8ms/step - loss: 0.0014 - accuracy: 1.0000 - val_loss: 0.0478 - val_accuracy: 0.9780\n",
      "Epoch 137/150\n",
      "7/7 [==============================] - 0s 10ms/step - loss: 0.0014 - accuracy: 1.0000 - val_loss: 0.0479 - val_accuracy: 0.9780\n",
      "Epoch 138/150\n",
      "7/7 [==============================] - 0s 7ms/step - loss: 0.0013 - accuracy: 1.0000 - val_loss: 0.0479 - val_accuracy: 0.9780\n",
      "Epoch 139/150\n",
      "7/7 [==============================] - 0s 8ms/step - loss: 0.0013 - accuracy: 1.0000 - val_loss: 0.0481 - val_accuracy: 0.9780\n",
      "Epoch 140/150\n",
      "7/7 [==============================] - 0s 8ms/step - loss: 0.0013 - accuracy: 1.0000 - val_loss: 0.0484 - val_accuracy: 0.9780\n",
      "Epoch 141/150\n",
      "7/7 [==============================] - 0s 7ms/step - loss: 0.0012 - accuracy: 1.0000 - val_loss: 0.0485 - val_accuracy: 0.9780\n",
      "Epoch 142/150\n",
      "7/7 [==============================] - 0s 9ms/step - loss: 0.0012 - accuracy: 1.0000 - val_loss: 0.0486 - val_accuracy: 0.9780\n",
      "Epoch 143/150\n",
      "7/7 [==============================] - 0s 7ms/step - loss: 0.0012 - accuracy: 1.0000 - val_loss: 0.0488 - val_accuracy: 0.9780\n",
      "Epoch 144/150\n",
      "7/7 [==============================] - 0s 7ms/step - loss: 9.7631e-04 - accuracy: 1.0000 - val_loss: 0.0491 - val_accuracy: 0.9780\n",
      "Epoch 145/150\n",
      "7/7 [==============================] - 0s 7ms/step - loss: 0.0011 - accuracy: 1.0000 - val_loss: 0.0494 - val_accuracy: 0.9780\n",
      "Epoch 146/150\n",
      "7/7 [==============================] - 0s 7ms/step - loss: 0.0011 - accuracy: 1.0000 - val_loss: 0.0496 - val_accuracy: 0.9780\n",
      "Epoch 147/150\n",
      "7/7 [==============================] - 0s 7ms/step - loss: 0.0011 - accuracy: 1.0000 - val_loss: 0.0500 - val_accuracy: 0.9780\n",
      "Epoch 148/150\n",
      "7/7 [==============================] - 0s 8ms/step - loss: 0.0010 - accuracy: 1.0000 - val_loss: 0.0500 - val_accuracy: 0.9780\n",
      "Epoch 149/150\n",
      "7/7 [==============================] - 0s 7ms/step - loss: 9.2386e-04 - accuracy: 1.0000 - val_loss: 0.0502 - val_accuracy: 0.9780\n",
      "Epoch 150/150\n",
      "7/7 [==============================] - 0s 7ms/step - loss: 9.9901e-04 - accuracy: 1.0000 - val_loss: 0.0503 - val_accuracy: 0.9780\n"
     ]
    }
   ],
   "source": [
    "hist = model.fit(train_dataset, epochs=N_EPOCHS, validation_data=val_dataset)"
   ]
  },
  {
   "cell_type": "markdown",
   "metadata": {
    "slideshow": {
     "slide_type": "fragment"
    }
   },
   "source": [
    "#### 결과 시각화"
   ]
  },
  {
   "cell_type": "code",
   "execution_count": 209,
   "metadata": {
    "ExecuteTime": {
     "end_time": "2022-07-14T02:49:27.875386Z",
     "start_time": "2022-07-14T02:49:27.776851Z"
    },
    "scrolled": true,
    "slideshow": {
     "slide_type": "fragment"
    }
   },
   "outputs": [
    {
     "data": {
      "image/png": "[encoded data removed]",
      "text/plain": [
       "<Figure size 504x432 with 1 Axes>"
      ]
     },
     "metadata": {
      "needs_background": "light"
     },
     "output_type": "display_data"
    }
   ],
   "source": [
    "import matplotlib.pyplot as plt\n",
    "\n",
    "plt.figure(figsize=(7,6))\n",
    "plt.plot(range(1, N_EPOCHS+1), hist.history['loss'], label='Train Loss')\n",
    "plt.plot(range(1, N_EPOCHS+1), hist.history['val_loss'], label='Validation Loss')\n",
    "plt.title('Loss', fontsize=20)\n",
    "plt.xlabel('Epochs')\n",
    "plt.ylabel('Loss')\n",
    "plt.legend()\n",
    "plt.show()"
   ]
  },
  {
   "cell_type": "code",
   "execution_count": 210,
   "metadata": {
    "ExecuteTime": {
     "end_time": "2022-07-14T02:49:29.747443Z",
     "start_time": "2022-07-14T02:49:29.650887Z"
    },
    "scrolled": true,
    "slideshow": {
     "slide_type": "fragment"
    }
   },
   "outputs": [
    {
     "data": {
      "image/png": "[encoded data removed]",
      "text/plain": [
       "<Figure size 504x432 with 1 Axes>"
      ]
     },
     "metadata": {
      "needs_background": "light"
     },
     "output_type": "display_data"
    }
   ],
   "source": [
    "plt.figure(figsize=(7,6))\n",
    "plt.plot(range(1, N_EPOCHS+1), hist.history['accuracy'], label='Train Accuracy')\n",
    "plt.plot(range(1, N_EPOCHS+1), hist.history['val_accuracy'], label='Validation Accuracy')\n",
    "plt.title('Accuracy', fontsize=20)\n",
    "plt.xlabel('Epochs')\n",
    "plt.ylabel('Accuracy')\n",
    "plt.legend()\n",
    "plt.show()"
   ]
  },
  {
   "cell_type": "markdown",
   "metadata": {
    "slideshow": {
     "slide_type": "slide"
    }
   },
   "source": [
    "#### 최종평가"
   ]
  },
  {
   "cell_type": "code",
   "execution_count": 211,
   "metadata": {
    "ExecuteTime": {
     "end_time": "2022-07-14T02:49:33.961888Z",
     "start_time": "2022-07-14T02:49:33.891265Z"
    },
    "slideshow": {
     "slide_type": "fragment"
    }
   },
   "outputs": [
    {
     "name": "stdout",
     "output_type": "stream",
     "text": [
      "3/3 [==============================] - 0s 21ms/step - loss: 0.1643 - accuracy: 0.9561\n"
     ]
    }
   ],
   "source": [
    "loss, acc = model.evaluate(test_dataset)"
   ]
  },
  {
   "cell_type": "code",
   "execution_count": 212,
   "metadata": {
    "ExecuteTime": {
     "end_time": "2022-07-14T02:49:37.689251Z",
     "start_time": "2022-07-14T02:49:37.685866Z"
    },
    "slideshow": {
     "slide_type": "fragment"
    }
   },
   "outputs": [
    {
     "name": "stdout",
     "output_type": "stream",
     "text": [
      "0.16426442563533783 0.9561403393745422\n"
     ]
    }
   ],
   "source": [
    "print(loss, acc)"
   ]
  },
  {
   "cell_type": "markdown",
   "metadata": {},
   "source": [
    "#### 모델저장"
   ]
  },
  {
   "cell_type": "code",
   "execution_count": 213,
   "metadata": {
    "ExecuteTime": {
     "end_time": "2022-07-14T03:07:51.718404Z",
     "start_time": "2022-07-14T03:07:51.279949Z"
    }
   },
   "outputs": [
    {
     "name": "stdout",
     "output_type": "stream",
     "text": [
      "INFO:tensorflow:Assets written to: models/breast_cancer_model/assets\n"
     ]
    }
   ],
   "source": [
    "model.save('models/breast_cancer_model')"
   ]
  },
  {
   "cell_type": "markdown",
   "metadata": {
    "slideshow": {
     "slide_type": "slide"
    }
   },
   "source": [
    "#### 새로운 데이터 추론"
   ]
  },
  {
   "cell_type": "code",
   "execution_count": 214,
   "metadata": {
    "ExecuteTime": {
     "end_time": "2022-07-14T03:11:52.018686Z",
     "start_time": "2022-07-14T03:11:52.014088Z"
    },
    "slideshow": {
     "slide_type": "fragment"
    }
   },
   "outputs": [],
   "source": [
    "new_data = X_test[:5]\n",
    "new_data_scaled = scaler.transform(new_data)"
   ]
  },
  {
   "cell_type": "code",
   "execution_count": 215,
   "metadata": {
    "ExecuteTime": {
     "end_time": "2022-07-14T03:12:00.340321Z",
     "start_time": "2022-07-14T03:12:00.251704Z"
    },
    "slideshow": {
     "slide_type": "fragment"
    }
   },
   "outputs": [
    {
     "name": "stdout",
     "output_type": "stream",
     "text": [
      "1/1 [==============================] - 0s 47ms/step\n"
     ]
    },
    {
     "name": "stderr",
     "output_type": "stream",
     "text": [
      "2022-07-14 12:12:00.320688: I tensorflow/core/grappler/optimizers/custom_graph_optimizer_registry.cc:113] Plugin optimizer for device_type GPU is enabled.\n"
     ]
    }
   ],
   "source": [
    "pred = model.predict(new_data_scaled)"
   ]
  },
  {
   "cell_type": "code",
   "execution_count": 216,
   "metadata": {
    "ExecuteTime": {
     "end_time": "2022-07-14T03:12:03.150866Z",
     "start_time": "2022-07-14T03:12:03.144324Z"
    },
    "slideshow": {
     "slide_type": "fragment"
    }
   },
   "outputs": [
    {
     "data": {
      "text/plain": [
       "array([[3.7293457e-08],\n",
       "       [6.8186593e-36],\n",
       "       [2.1352302e-09],\n",
       "       [9.9999595e-01],\n",
       "       [1.4719187e-10]], dtype=float32)"
      ]
     },
     "execution_count": 216,
     "metadata": {},
     "output_type": "execute_result"
    }
   ],
   "source": [
    "pred"
   ]
  },
  {
   "cell_type": "code",
   "execution_count": 217,
   "metadata": {
    "ExecuteTime": {
     "end_time": "2022-07-14T03:12:08.690542Z",
     "start_time": "2022-07-14T03:12:08.685416Z"
    },
    "slideshow": {
     "slide_type": "fragment"
    }
   },
   "outputs": [
    {
     "data": {
      "text/plain": [
       "array([[0],\n",
       "       [0],\n",
       "       [0],\n",
       "       [1],\n",
       "       [0]], dtype=int8)"
      ]
     },
     "execution_count": 217,
     "metadata": {},
     "output_type": "execute_result"
    }
   ],
   "source": [
    "threshold = 0.5\n",
    "result = (pred > threshold).astype(np.int8)\n",
    "result"
   ]
  },
  {
   "cell_type": "code",
   "execution_count": 218,
   "metadata": {
    "ExecuteTime": {
     "end_time": "2022-07-14T03:12:17.079606Z",
     "start_time": "2022-07-14T03:12:17.073374Z"
    },
    "slideshow": {
     "slide_type": "fragment"
    }
   },
   "outputs": [
    {
     "data": {
      "text/plain": [
       "array([['악성-0'],\n",
       "       ['악성-0'],\n",
       "       ['악성-0'],\n",
       "       ['양성-1'],\n",
       "       ['악성-0']], dtype='<U4')"
      ]
     },
     "execution_count": 218,
     "metadata": {},
     "output_type": "execute_result"
    }
   ],
   "source": [
    "result_label = np.where(pred > threshold, \"양성-1\", \"악성-0\")\n",
    "result_label"
   ]
  },
  {
   "cell_type": "markdown",
   "metadata": {},
   "source": [
    "- 모델의 분류예측 결과를 후처리ㅏ -> 모델이 출력한 확률을 class로 변환\n",
    "    - 다중분류(모델이 클래스별 확률 출력): np.argmax(예측결과, axis=-1)\n",
    "    - 이진분류(모델이 양성의 확률을 출력): np.where(pred>threshold, \"양성 label\", \"음성 label\")"
   ]
  },
  {
   "cell_type": "markdown",
   "metadata": {
    "slideshow": {
     "slide_type": "slide"
    }
   },
   "source": [
    "# Tensorflow 2.3이하 버전에서 Train dataset 구성 및 학습 \n",
    "- 위의 코드들은 2.4 이후 버전\n",
    "- 2.3 이하버전에서는 \n",
    "    1. train_dataset 구성시 repeat()를 추가\n",
    "    2. 학습시에 train/validation 1 epoch당 step 횟수를 추가\n",
    "        - steps_per_epoch: train set 에 대한 step 횟수\n",
    "        - validation_steps: validation set 에 대한 step 횟수"
   ]
  },
  {
   "cell_type": "code",
   "execution_count": null,
   "metadata": {
    "ExecuteTime": {
     "end_time": "2021-11-03T01:02:04.237421Z",
     "start_time": "2021-11-03T01:02:04.214435Z"
    },
    "slideshow": {
     "slide_type": "fragment"
    }
   },
   "outputs": [],
   "source": [
    "train_dataset2 = tf.data.Dataset.from_tensor_slices((X_train_scaled, y_train)).shuffle(N_TRAIN).batch(N_BATCHS, drop_remainder=True).repeat()\n",
    "\n",
    "val_dataset2 = tf.data.Dataset.from_tensor_slices((X_val_scaled, y_val)).batch(N_BATCHS)\n",
    "test_dataset2 = tf.data.Dataset.from_tensor_slices((X_test_scaled, y_test)).batch(N_BATCHS)"
   ]
  },
  {
   "cell_type": "code",
   "execution_count": null,
   "metadata": {
    "ExecuteTime": {
     "end_time": "2021-11-03T01:03:43.772869Z",
     "start_time": "2021-11-03T01:03:43.765843Z"
    },
    "slideshow": {
     "slide_type": "fragment"
    }
   },
   "outputs": [],
   "source": [
    "steps_per_epoch = N_TRAIN // N_BATCHS #repeat() 때문에 len()을 사용못함\n",
    "validation_steps = len(val_dataset2) #len(Dataset): step수 반환\n",
    "print(steps_per_epoch, validation_steps)"
   ]
  },
  {
   "cell_type": "code",
   "execution_count": null,
   "metadata": {
    "ExecuteTime": {
     "end_time": "2021-11-03T01:03:44.457988Z",
     "start_time": "2021-11-03T01:03:44.410963Z"
    },
    "slideshow": {
     "slide_type": "fragment"
    }
   },
   "outputs": [],
   "source": [
    "model = create_wisconsin_model()\n",
    "model.compile(optimizer=keras.optimizers.Adam(learning_rate=LEARNING_RATE), \n",
    "              loss='binary_crossentropy',\n",
    "              metrics=['accuracy'])"
   ]
  },
  {
   "cell_type": "code",
   "execution_count": null,
   "metadata": {
    "ExecuteTime": {
     "end_time": "2021-11-03T01:03:51.545411Z",
     "start_time": "2021-11-03T01:03:50.882537Z"
    },
    "scrolled": true,
    "slideshow": {
     "slide_type": "fragment"
    }
   },
   "outputs": [],
   "source": [
    "model.fit(train_dataset2, \n",
    "          steps_per_epoch=steps_per_epoch,\n",
    "          validation_data=val_dataset2,\n",
    "          validation_steps=validation_steps, \n",
    "          epochs=10)"
   ]
  }
 ],
 "metadata": {
  "kernelspec": {
   "display_name": "Python 3 (ipykernel)",
   "language": "python",
   "name": "python3"
  },
  "language_info": {
   "codemirror_mode": {
    "name": "ipython",
    "version": 3
   },
   "file_extension": ".py",
   "mimetype": "text/x-python",
   "name": "python",
   "nbconvert_exporter": "python",
   "pygments_lexer": "ipython3",
   "version": "3.8.13"
  },
  "toc": {
   "base_numbering": 1,
   "nav_menu": {},
   "number_sections": false,
   "sideBar": true,
   "skip_h1_title": false,
   "title_cell": "Table of Contents",
   "title_sidebar": "Contents",
   "toc_cell": false,
   "toc_position": {},
   "toc_section_display": true,
   "toc_window_display": false
  },
  "varInspector": {
   "cols": {
    "lenName": 16,
    "lenType": 16,
    "lenVar": 40
   },
   "kernels_config": {
    "python": {
     "delete_cmd_postfix": "",
     "delete_cmd_prefix": "del ",
     "library": "var_list.py",
     "varRefreshCmd": "print(var_dic_list())"
    },
    "r": {
     "delete_cmd_postfix": ") ",
     "delete_cmd_prefix": "rm(",
     "library": "var_list.r",
     "varRefreshCmd": "cat(var_dic_list()) "
    }
   },
   "types_to_exclude": [
    "module",
    "function",
    "builtin_function_or_method",
    "instance",
    "_Feature"
   ],
   "window_display": false
  }
 },
 "nbformat": 4,
 "nbformat_minor": 2
}
